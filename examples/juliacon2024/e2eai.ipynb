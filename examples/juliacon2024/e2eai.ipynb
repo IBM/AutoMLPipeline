{
 "cells": [
  {
   "cell_type": "markdown",
   "id": "e467401f-90b4-4333-838d-b2a57fa76094",
   "metadata": {
    "editable": true,
    "slideshow": {
     "slide_type": "slide"
    },
    "tags": []
   },
   "source": [
    "# OUTLINE\n",
    "\n",
    "- #### The Vision of E2EAI (End-to-End AI)\n",
    "- #### Components of E2EAI\n",
    "- #### The Julia AI/ML Solution Use-case\n",
    "- #### The Future"
   ]
  },
  {
   "cell_type": "markdown",
   "id": "5173925e-5e8e-4db4-89cd-d642257220e3",
   "metadata": {
    "editable": true,
    "slideshow": {
     "slide_type": "slide"
    },
    "tags": []
   },
   "source": [
    "# The Vision of E2EAI\n",
    "\n",
    "- yaml description -> workflow transformer -> workflow orchestrator -> workflow management"
   ]
  },
  {
   "cell_type": "markdown",
   "id": "e5f82f8b-c900-4a4b-83db-d50de3b569bc",
   "metadata": {
    "editable": true,
    "slideshow": {
     "slide_type": "slide"
    },
    "tags": []
   },
   "source": [
    "# Components of E2EAI\n",
    "\n",
    "- EU project SUNRISE "
   ]
  },
  {
   "cell_type": "markdown",
   "id": "e10a890f-e39b-4997-8360-62f5f877a2e5",
   "metadata": {
    "editable": true,
    "slideshow": {
     "slide_type": "subslide"
    },
    "tags": []
   },
   "source": [
    "## Infrastucture Creation"
   ]
  },
  {
   "cell_type": "markdown",
   "id": "d35b65e8-d24f-40d3-9c49-42aa9791a515",
   "metadata": {
    "editable": true,
    "slideshow": {
     "slide_type": "subslide"
    },
    "tags": []
   },
   "source": [
    "## Workflow AI as a Service"
   ]
  },
  {
   "cell_type": "markdown",
   "id": "0dae6487-c6a3-4015-9051-a1b5c806f8af",
   "metadata": {
    "editable": true,
    "slideshow": {
     "slide_type": "slide"
    },
    "tags": []
   },
   "source": [
    "# The Julia AI/ML Solution Use-case\n",
    "\n",
    "- show background of automlpipeline and tmsl\n",
    "- discuss the disadvantage of manual workflow\n",
    "- show the workflow with zero touch coding using e2eai"
   ]
  },
  {
   "cell_type": "code",
   "execution_count": 3,
   "id": "2c8b74b9-4b30-42b4-b3ee-163c1a019c4a",
   "metadata": {
    "editable": true,
    "slideshow": {
     "slide_type": "subslide"
    },
    "tags": []
   },
   "outputs": [],
   "source": [
    "using AutoMLPipeline;"
   ]
  },
  {
   "cell_type": "code",
   "execution_count": 5,
   "id": "80a51237-1756-485b-bd5f-212168493f6b",
   "metadata": {
    "editable": true,
    "slideshow": {
     "slide_type": "subslide"
    },
    "tags": []
   },
   "outputs": [
    {
     "data": {
      "text/plain": [
       "2"
      ]
     },
     "execution_count": 5,
     "metadata": {},
     "output_type": "execute_result"
    }
   ],
   "source": [
    "1+1"
   ]
  },
  {
   "cell_type": "code",
   "execution_count": 4,
   "id": "bb7e9cbc-bf5a-461e-b5b7-34e0712001f2",
   "metadata": {
    "editable": true,
    "slideshow": {
     "slide_type": "subslide"
    },
    "tags": []
   },
   "outputs": [],
   "source": [
    "using TSML;"
   ]
  },
  {
   "cell_type": "markdown",
   "id": "8b0fbe2f-559b-4b8f-9004-f787a55118bc",
   "metadata": {
    "editable": true,
    "slideshow": {
     "slide_type": "slide"
    },
    "tags": []
   },
   "source": [
    "# Zero Coding Using Workflow Template\n",
    "<center><img src=\"./template.png\" width=\"1000\"/></center>"
   ]
  },
  {
   "cell_type": "markdown",
   "id": "59c75256-ee7f-45af-b32f-1ddafc730760",
   "metadata": {
    "editable": true,
    "slideshow": {
     "slide_type": "subslide"
    },
    "tags": []
   },
   "source": [
    "## Explicit ML Pipeline\n",
    "\n",
    "<center><img src=\"./mlpipeline.png\" width=\"500\"/></center>"
   ]
  },
  {
   "cell_type": "markdown",
   "id": "c15ccdde-17be-4768-b475-b8f6ca2e866b",
   "metadata": {
    "editable": true,
    "slideshow": {
     "slide_type": "subslide"
    },
    "tags": []
   },
   "source": [
    "## Optimal Pipeline Discovery by AutoML\n",
    "<center><img src=\"./lowcode.png\" width=\"500\"/></center>"
   ]
  },
  {
   "cell_type": "code",
   "execution_count": null,
   "id": "5b4547af-52fc-4637-8db2-8bb1dea92ecd",
   "metadata": {},
   "outputs": [],
   "source": []
  }
 ],
 "metadata": {
  "kernelspec": {
   "display_name": "Julia 1.10.3",
   "language": "julia",
   "name": "julia-1.10"
  },
  "language_info": {
   "file_extension": ".jl",
   "mimetype": "application/julia",
   "name": "julia",
   "version": "1.10.3"
  }
 },
 "nbformat": 4,
 "nbformat_minor": 5
}
