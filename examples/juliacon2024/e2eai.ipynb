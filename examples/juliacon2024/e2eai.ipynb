{
 "cells": [
  {
   "cell_type": "markdown",
   "id": "55c470ee-5ae5-40cd-be54-2f2543611759",
   "metadata": {
    "editable": false,
    "slideshow": {
     "slide_type": "slide"
    },
    "tags": []
   },
   "source": [
    "# JuliaCon 2024\n",
    "</br>\n",
    "\n",
    "## End-to-End AI (E2EAI) with Julia, K0s, and Argo Workflow\n",
    "</br>\n",
    "\n",
    "#####     Presentor: Paulito Palmes, IBM Research\n",
    "##### Collaborators: SUNRISE-6G EU Partners\n",
    "#####          Date: July 11, 2024 "
   ]
  },
  {
   "attachments": {},
   "cell_type": "markdown",
   "id": "562a4d68-e257-41ef-98aa-2526f3d0660b",
   "metadata": {
    "editable": false,
    "slideshow": {
     "slide_type": "slide"
    },
    "tags": []
   },
   "source": [
    "# OUTLINE\n",
    "\n",
    "- ### The Motivations Behind E2EAI (End-to-End AI)\n",
    "- ### Components of E2EAI\n",
    "- ### The Julia AI/ML Solution Use-case\n",
    "- ### The Future"
   ]
  },
  {
   "cell_type": "markdown",
   "id": "f460e6bb-fdaf-4b89-a75c-766ca76c23c6",
   "metadata": {
    "editable": false,
    "slideshow": {
     "slide_type": "slide"
    },
    "tags": []
   },
   "source": [
    "# The Motivations Behind E2EAI\n",
    "\n",
    "- current paradigms do not exploit tight integration of IaC and MLOPs in deploying AI solutions\n",
    "- issues with no tight integration of IaC and MLOPs in deploying AI solutions include:\n",
    "  - difficult to identify optimal infrastructure \n",
    "  - difficult to predict resource viability and feasibility\n",
    "  - difficult to infer the cost of deployment\n",
    "  - difficult to identify performance bottlenecks and root-cause analysis"
   ]
  },
  {
   "cell_type": "markdown",
   "id": "bea81b9c-d730-4ca9-a227-efdb118127de",
   "metadata": {
    "editable": true,
    "slideshow": {
     "slide_type": "slide"
    },
    "tags": []
   },
   "source": [
    "# End-to-End AI (E2EAI)\n",
    "<center>\n",
    "    <img  src=\"./yamlcontents.png\" width=\"600\"/>\n",
    "</center>\n",
    "\n",
    "- E2EAI is a unified framework tightly integrating MLOps and IaC \n",
    "  - single yaml file: Infrastructure + ML Pipeline + LifeCycle Management\n",
    "  - single yaml file to describe both the IaC and MLOPs\n",
    "  - reliance on yaml workflow templates imply zero to minimal coding\n",
    "  - collection of yamls can be used as inputs to LLM for intent-driven E2EAI"
   ]
  },
  {
   "attachments": {},
   "cell_type": "markdown",
   "id": "e5f82f8b-c900-4a4b-83db-d50de3b569bc",
   "metadata": {
    "editable": true,
    "slideshow": {
     "slide_type": "slide"
    },
    "tags": []
   },
   "source": [
    "# Components of E2EAI\n",
    "<center>\n",
    "    <img  src=\"./e2eai-components.png\" width=\"700\"/>\n",
    "    <img  src=\"./eu-funding.png\" width=\"200\"/>\n",
    "</center>\n",
    "\n",
    "- SUNRISE-6G\n",
    "  - SUstainable federatioN of Research Infrastructures \\\n",
    "    for Scaling-up Experimentation in 6G\n",
    "  - H2020 EU Project (3 years)"
   ]
  },
  {
   "cell_type": "markdown",
   "id": "0dae6487-c6a3-4015-9051-a1b5c806f8af",
   "metadata": {
    "editable": true,
    "slideshow": {
     "slide_type": "slide"
    },
    "tags": []
   },
   "source": [
    "# The Julia AI/ML Solution Use-case\n",
    "\n",
    "- AutoMLPipeline workflow\n",
    "- Integrating AutoMLPipeline in E2EAI"
   ]
  },
  {
   "cell_type": "markdown",
   "id": "e8511558-3b93-4c19-b891-29245f6443f0",
   "metadata": {
    "editable": true,
    "slideshow": {
     "slide_type": "subslide"
    },
    "tags": []
   },
   "source": [
    "### Load ML pipeline preprocessing components and models"
   ]
  },
  {
   "cell_type": "code",
   "execution_count": 24,
   "id": "2c8b74b9-4b30-42b4-b3ee-163c1a019c4a",
   "metadata": {
    "editable": false,
    "slideshow": {
     "slide_type": "fragment"
    },
    "tags": []
   },
   "outputs": [],
   "source": [
    "using AutoMLPipeline;\n",
    "import PythonCall; const PYC=PythonCall; warnings = PYC.pyimport(\"warnings\"); warnings.filterwarnings(\"ignore\")\n",
    "\n",
    "#### Decomposition\n",
    "pca = skoperator(\"PCA\"); fa  = skoperator(\"FactorAnalysis\"); ica = skoperator(\"FastICA\")\n",
    "#### Scaler \n",
    "rb   = skoperator(\"RobustScaler\"); pt   = skoperator(\"PowerTransformer\"); norm = skoperator(\"Normalizer\")\n",
    "mx   = skoperator(\"MinMaxScaler\"); std  = skoperator(\"StandardScaler\")\n",
    "#### categorical preprocessing\n",
    "ohe = OneHotEncoder()\n",
    "#### Column selector\n",
    "catf = CatFeatureSelector(); numf = NumFeatureSelector(); disc = CatNumDiscriminator()\n",
    "#### Learners\n",
    "rf = skoperator(\"RandomForestClassifier\"); gb = skoperator(\"GradientBoostingClassifier\"); lsvc = skoperator(\"LinearSVC\")\n",
    "svc = skoperator(\"SVC\"); mlp = skoperator(\"MLPClassifier\")\n",
    "ada = skoperator(\"AdaBoostClassifier\"); sgd = skoperator(\"SGDClassifier\")\n",
    "skrf_reg = skoperator(\"RandomForestRegressor\"); skgb_reg = skoperator(\"GradientBoostingRegressor\")\n",
    "jrf = RandomForest(); tree = PrunedTree()\n",
    "vote = VoteEnsemble(); stack = StackEnsemble(); best = BestLearner();"
   ]
  },
  {
   "cell_type": "markdown",
   "id": "b1a5e34c-a81b-4c3d-967c-08e163316013",
   "metadata": {
    "editable": true,
    "slideshow": {
     "slide_type": "subslide"
    },
    "tags": []
   },
   "source": [
    "### Prepare dataset for classification"
   ]
  },
  {
   "cell_type": "code",
   "execution_count": 25,
   "id": "23e4e1bc-7d31-4081-84f6-9a607abf16a6",
   "metadata": {
    "editable": false,
    "slideshow": {
     "slide_type": "fragment"
    },
    "tags": []
   },
   "outputs": [
    {
     "data": {
      "text/html": [
       "<div><div style = \"float: left;\"><span>10×7 DataFrame</span></div><div style = \"clear: both;\"></div></div><div class = \"data-frame\" style = \"overflow-x: scroll;\"><table class = \"data-frame\" style = \"margin-bottom: 6px;\"><thead><tr class = \"header\"><th class = \"rowNumber\" style = \"font-weight: bold; text-align: right;\">Row</th><th style = \"text-align: left;\">Home.Away</th><th style = \"text-align: left;\">Favorite_Points</th><th style = \"text-align: left;\">Underdog_Points</th><th style = \"text-align: left;\">Pointspread</th><th style = \"text-align: left;\">Favorite_Name</th><th style = \"text-align: left;\">Underdog_name</th><th style = \"text-align: left;\">Year</th></tr><tr class = \"subheader headerLastRow\"><th class = \"rowNumber\" style = \"font-weight: bold; text-align: right;\"></th><th title = \"InlineStrings.String7\" style = \"text-align: left;\">String7</th><th title = \"Int64\" style = \"text-align: left;\">Int64</th><th title = \"Int64\" style = \"text-align: left;\">Int64</th><th title = \"Float64\" style = \"text-align: left;\">Float64</th><th title = \"InlineStrings.String3\" style = \"text-align: left;\">String3</th><th title = \"InlineStrings.String3\" style = \"text-align: left;\">String3</th><th title = \"Int64\" style = \"text-align: left;\">Int64</th></tr></thead><tbody><tr><td class = \"rowNumber\" style = \"font-weight: bold; text-align: right;\">1</td><td style = \"text-align: left;\">away</td><td style = \"text-align: right;\">27</td><td style = \"text-align: right;\">24</td><td style = \"text-align: right;\">4.0</td><td style = \"text-align: left;\">BUF</td><td style = \"text-align: left;\">MIA</td><td style = \"text-align: right;\">89</td></tr><tr><td class = \"rowNumber\" style = \"font-weight: bold; text-align: right;\">2</td><td style = \"text-align: left;\">at_home</td><td style = \"text-align: right;\">17</td><td style = \"text-align: right;\">14</td><td style = \"text-align: right;\">3.0</td><td style = \"text-align: left;\">CHI</td><td style = \"text-align: left;\">CIN</td><td style = \"text-align: right;\">89</td></tr><tr><td class = \"rowNumber\" style = \"font-weight: bold; text-align: right;\">3</td><td style = \"text-align: left;\">away</td><td style = \"text-align: right;\">51</td><td style = \"text-align: right;\">0</td><td style = \"text-align: right;\">2.5</td><td style = \"text-align: left;\">CLE</td><td style = \"text-align: left;\">PIT</td><td style = \"text-align: right;\">89</td></tr><tr><td class = \"rowNumber\" style = \"font-weight: bold; text-align: right;\">4</td><td style = \"text-align: left;\">at_home</td><td style = \"text-align: right;\">28</td><td style = \"text-align: right;\">0</td><td style = \"text-align: right;\">5.5</td><td style = \"text-align: left;\">NO</td><td style = \"text-align: left;\">DAL</td><td style = \"text-align: right;\">89</td></tr><tr><td class = \"rowNumber\" style = \"font-weight: bold; text-align: right;\">5</td><td style = \"text-align: left;\">at_home</td><td style = \"text-align: right;\">38</td><td style = \"text-align: right;\">7</td><td style = \"text-align: right;\">5.5</td><td style = \"text-align: left;\">MIN</td><td style = \"text-align: left;\">HOU</td><td style = \"text-align: right;\">89</td></tr><tr><td class = \"rowNumber\" style = \"font-weight: bold; text-align: right;\">6</td><td style = \"text-align: left;\">at_home</td><td style = \"text-align: right;\">34</td><td style = \"text-align: right;\">20</td><td style = \"text-align: right;\">6.0</td><td style = \"text-align: left;\">DEN</td><td style = \"text-align: left;\">KC</td><td style = \"text-align: right;\">89</td></tr><tr><td class = \"rowNumber\" style = \"font-weight: bold; text-align: right;\">7</td><td style = \"text-align: left;\">away</td><td style = \"text-align: right;\">31</td><td style = \"text-align: right;\">21</td><td style = \"text-align: right;\">6.0</td><td style = \"text-align: left;\">LAN</td><td style = \"text-align: left;\">ATL</td><td style = \"text-align: right;\">89</td></tr><tr><td class = \"rowNumber\" style = \"font-weight: bold; text-align: right;\">8</td><td style = \"text-align: left;\">at_home</td><td style = \"text-align: right;\">24</td><td style = \"text-align: right;\">27</td><td style = \"text-align: right;\">2.5</td><td style = \"text-align: left;\">NYJ</td><td style = \"text-align: left;\">NE</td><td style = \"text-align: right;\">89</td></tr><tr><td class = \"rowNumber\" style = \"font-weight: bold; text-align: right;\">9</td><td style = \"text-align: left;\">away</td><td style = \"text-align: right;\">16</td><td style = \"text-align: right;\">13</td><td style = \"text-align: right;\">1.5</td><td style = \"text-align: left;\">PHX</td><td style = \"text-align: left;\">DET</td><td style = \"text-align: right;\">89</td></tr><tr><td class = \"rowNumber\" style = \"font-weight: bold; text-align: right;\">10</td><td style = \"text-align: left;\">at_home</td><td style = \"text-align: right;\">40</td><td style = \"text-align: right;\">14</td><td style = \"text-align: right;\">3.5</td><td style = \"text-align: left;\">LAA</td><td style = \"text-align: left;\">SD</td><td style = \"text-align: right;\">89</td></tr></tbody></table></div>"
      ],
      "text/latex": [
       "\\begin{tabular}{r|ccccccc}\n",
       "\t& Home.Away & Favorite\\_Points & Underdog\\_Points & Pointspread & Favorite\\_Name & Underdog\\_name & \\\\\n",
       "\t\\hline\n",
       "\t& String7 & Int64 & Int64 & Float64 & String3 & String3 & \\\\\n",
       "\t\\hline\n",
       "\t1 & away & 27 & 24 & 4.0 & BUF & MIA & $\\dots$ \\\\\n",
       "\t2 & at\\_home & 17 & 14 & 3.0 & CHI & CIN & $\\dots$ \\\\\n",
       "\t3 & away & 51 & 0 & 2.5 & CLE & PIT & $\\dots$ \\\\\n",
       "\t4 & at\\_home & 28 & 0 & 5.5 & NO & DAL & $\\dots$ \\\\\n",
       "\t5 & at\\_home & 38 & 7 & 5.5 & MIN & HOU & $\\dots$ \\\\\n",
       "\t6 & at\\_home & 34 & 20 & 6.0 & DEN & KC & $\\dots$ \\\\\n",
       "\t7 & away & 31 & 21 & 6.0 & LAN & ATL & $\\dots$ \\\\\n",
       "\t8 & at\\_home & 24 & 27 & 2.5 & NYJ & NE & $\\dots$ \\\\\n",
       "\t9 & away & 16 & 13 & 1.5 & PHX & DET & $\\dots$ \\\\\n",
       "\t10 & at\\_home & 40 & 14 & 3.5 & LAA & SD & $\\dots$ \\\\\n",
       "\\end{tabular}\n"
      ],
      "text/plain": [
       "\u001b[1m10×7 DataFrame\u001b[0m\n",
       "\u001b[1m Row \u001b[0m│\u001b[1m Home.Away \u001b[0m\u001b[1m Favorite_Points \u001b[0m\u001b[1m Underdog_Points \u001b[0m\u001b[1m Pointspread \u001b[0m\u001b[1m Favorite_Name\u001b[0m ⋯\n",
       "     │\u001b[90m String7   \u001b[0m\u001b[90m Int64           \u001b[0m\u001b[90m Int64           \u001b[0m\u001b[90m Float64     \u001b[0m\u001b[90m String3      \u001b[0m ⋯\n",
       "─────┼──────────────────────────────────────────────────────────────────────────\n",
       "   1 │ away                    27               24          4.0  BUF           ⋯\n",
       "   2 │ at_home                 17               14          3.0  CHI\n",
       "   3 │ away                    51                0          2.5  CLE\n",
       "   4 │ at_home                 28                0          5.5  NO\n",
       "   5 │ at_home                 38                7          5.5  MIN           ⋯\n",
       "   6 │ at_home                 34               20          6.0  DEN\n",
       "   7 │ away                    31               21          6.0  LAN\n",
       "   8 │ at_home                 24               27          2.5  NYJ\n",
       "   9 │ away                    16               13          1.5  PHX           ⋯\n",
       "  10 │ at_home                 40               14          3.5  LAA\n",
       "\u001b[36m                                                               2 columns omitted\u001b[0m"
      ]
     },
     "execution_count": 25,
     "metadata": {},
     "output_type": "execute_result"
    }
   ],
   "source": [
    "# Make sure that the input feature is a dataframe and the target output is a 1-D vector.\n",
    "using AutoMLPipeline\n",
    "profbdata = getprofb()\n",
    "X = profbdata[:,2:end] \n",
    "Y = profbdata[:,1] |> Vector;\n",
    "head(x)=first(x,10)\n",
    "head(profbdata)"
   ]
  },
  {
   "cell_type": "markdown",
   "id": "39821243-a693-4270-a52e-c3d60fe21d1c",
   "metadata": {
    "editable": false,
    "slideshow": {
     "slide_type": "subslide"
    },
    "tags": []
   },
   "source": [
    "### Pipeline to transform categorical features to one-hot encoding"
   ]
  },
  {
   "cell_type": "code",
   "execution_count": 26,
   "id": "e1e00eff-8c82-4307-9d84-566249b988df",
   "metadata": {
    "editable": false,
    "slideshow": {
     "slide_type": "fragment"
    },
    "tags": []
   },
   "outputs": [
    {
     "data": {
      "text/html": [
       "<div><div style = \"float: left;\"><span>10×56 DataFrame</span></div><div style = \"clear: both;\"></div></div><div class = \"data-frame\" style = \"overflow-x: scroll;\"><table class = \"data-frame\" style = \"margin-bottom: 6px;\"><thead><tr class = \"header\"><th class = \"rowNumber\" style = \"font-weight: bold; text-align: right;\">Row</th><th style = \"text-align: left;\">x1</th><th style = \"text-align: left;\">x2</th><th style = \"text-align: left;\">x3</th><th style = \"text-align: left;\">x4</th><th style = \"text-align: left;\">x5</th><th style = \"text-align: left;\">x6</th><th style = \"text-align: left;\">x7</th><th style = \"text-align: left;\">x8</th><th style = \"text-align: left;\">x9</th><th style = \"text-align: left;\">x10</th><th style = \"text-align: left;\">x11</th><th style = \"text-align: left;\">x12</th><th style = \"text-align: left;\">x13</th><th style = \"text-align: left;\">x14</th><th style = \"text-align: left;\">x15</th><th style = \"text-align: left;\">x16</th><th style = \"text-align: left;\">x17</th><th style = \"text-align: left;\">x18</th><th style = \"text-align: left;\">x19</th><th style = \"text-align: left;\">x20</th><th style = \"text-align: left;\">x21</th><th style = \"text-align: left;\">x22</th><th style = \"text-align: left;\">x23</th><th style = \"text-align: left;\">x24</th><th style = \"text-align: left;\">x25</th><th style = \"text-align: left;\">x26</th><th style = \"text-align: left;\">x27</th><th style = \"text-align: left;\">x28</th><th style = \"text-align: left;\">x29</th><th style = \"text-align: left;\">x30</th><th style = \"text-align: left;\">x31</th><th style = \"text-align: left;\">x32</th><th style = \"text-align: left;\">x33</th><th style = \"text-align: left;\">x34</th><th style = \"text-align: left;\">x35</th><th style = \"text-align: left;\">x36</th><th style = \"text-align: left;\">x37</th><th style = \"text-align: left;\">x38</th><th style = \"text-align: left;\">x39</th><th style = \"text-align: left;\">x40</th><th style = \"text-align: left;\">x41</th><th style = \"text-align: left;\">x42</th><th style = \"text-align: left;\">x43</th><th style = \"text-align: left;\">x44</th><th style = \"text-align: left;\">x45</th><th style = \"text-align: left;\">x46</th><th style = \"text-align: left;\">x47</th><th style = \"text-align: left;\">x48</th><th style = \"text-align: left;\">x49</th><th style = \"text-align: left;\">x50</th><th style = \"text-align: left;\">x51</th><th style = \"text-align: left;\">x52</th><th style = \"text-align: left;\">x53</th><th style = \"text-align: left;\">x54</th><th style = \"text-align: left;\">x55</th><th style = \"text-align: left;\">x56</th></tr><tr class = \"subheader headerLastRow\"><th class = \"rowNumber\" style = \"font-weight: bold; text-align: right;\"></th><th title = \"Float64\" style = \"text-align: left;\">Float64</th><th title = \"Float64\" style = \"text-align: left;\">Float64</th><th title = \"Float64\" style = \"text-align: left;\">Float64</th><th title = \"Float64\" style = \"text-align: left;\">Float64</th><th title = \"Float64\" style = \"text-align: left;\">Float64</th><th title = \"Float64\" style = \"text-align: left;\">Float64</th><th title = \"Float64\" style = \"text-align: left;\">Float64</th><th title = \"Float64\" style = \"text-align: left;\">Float64</th><th title = \"Float64\" style = \"text-align: left;\">Float64</th><th title = \"Float64\" style = \"text-align: left;\">Float64</th><th title = \"Float64\" style = \"text-align: left;\">Float64</th><th title = \"Float64\" style = \"text-align: left;\">Float64</th><th title = \"Float64\" style = \"text-align: left;\">Float64</th><th title = \"Float64\" style = \"text-align: left;\">Float64</th><th title = \"Float64\" style = \"text-align: left;\">Float64</th><th title = \"Float64\" style = \"text-align: left;\">Float64</th><th title = \"Float64\" style = \"text-align: left;\">Float64</th><th title = \"Float64\" style = \"text-align: left;\">Float64</th><th title = \"Float64\" style = \"text-align: left;\">Float64</th><th title = \"Float64\" style = \"text-align: left;\">Float64</th><th title = \"Float64\" style = \"text-align: left;\">Float64</th><th title = \"Float64\" style = \"text-align: left;\">Float64</th><th title = \"Float64\" style = \"text-align: left;\">Float64</th><th title = \"Float64\" style = \"text-align: left;\">Float64</th><th title = \"Float64\" style = \"text-align: left;\">Float64</th><th title = \"Float64\" style = \"text-align: left;\">Float64</th><th title = \"Float64\" style = \"text-align: left;\">Float64</th><th title = \"Float64\" style = \"text-align: left;\">Float64</th><th title = \"Float64\" style = \"text-align: left;\">Float64</th><th title = \"Float64\" style = \"text-align: left;\">Float64</th><th title = \"Float64\" style = \"text-align: left;\">Float64</th><th title = \"Float64\" style = \"text-align: left;\">Float64</th><th title = \"Float64\" style = \"text-align: left;\">Float64</th><th title = \"Float64\" style = \"text-align: left;\">Float64</th><th title = \"Float64\" style = \"text-align: left;\">Float64</th><th title = \"Float64\" style = \"text-align: left;\">Float64</th><th title = \"Float64\" style = \"text-align: left;\">Float64</th><th title = \"Float64\" style = \"text-align: left;\">Float64</th><th title = \"Float64\" style = \"text-align: left;\">Float64</th><th title = \"Float64\" style = \"text-align: left;\">Float64</th><th title = \"Float64\" style = \"text-align: left;\">Float64</th><th title = \"Float64\" style = \"text-align: left;\">Float64</th><th title = \"Float64\" style = \"text-align: left;\">Float64</th><th title = \"Float64\" style = \"text-align: left;\">Float64</th><th title = \"Float64\" style = \"text-align: left;\">Float64</th><th title = \"Float64\" style = \"text-align: left;\">Float64</th><th title = \"Float64\" style = \"text-align: left;\">Float64</th><th title = \"Float64\" style = \"text-align: left;\">Float64</th><th title = \"Float64\" style = \"text-align: left;\">Float64</th><th title = \"Float64\" style = \"text-align: left;\">Float64</th><th title = \"Float64\" style = \"text-align: left;\">Float64</th><th title = \"Float64\" style = \"text-align: left;\">Float64</th><th title = \"Float64\" style = \"text-align: left;\">Float64</th><th title = \"Float64\" style = \"text-align: left;\">Float64</th><th title = \"Float64\" style = \"text-align: left;\">Float64</th><th title = \"Float64\" style = \"text-align: left;\">Float64</th></tr></thead><tbody><tr><td class = \"rowNumber\" style = \"font-weight: bold; text-align: right;\">1</td><td style = \"text-align: right;\">1.0</td><td style = \"text-align: right;\">0.0</td><td style = \"text-align: right;\">0.0</td><td style = \"text-align: right;\">0.0</td><td style = \"text-align: right;\">0.0</td><td style = \"text-align: right;\">0.0</td><td style = \"text-align: right;\">0.0</td><td style = \"text-align: right;\">0.0</td><td style = \"text-align: right;\">0.0</td><td style = \"text-align: right;\">0.0</td><td style = \"text-align: right;\">0.0</td><td style = \"text-align: right;\">0.0</td><td style = \"text-align: right;\">0.0</td><td style = \"text-align: right;\">0.0</td><td style = \"text-align: right;\">0.0</td><td style = \"text-align: right;\">0.0</td><td style = \"text-align: right;\">0.0</td><td style = \"text-align: right;\">0.0</td><td style = \"text-align: right;\">0.0</td><td style = \"text-align: right;\">0.0</td><td style = \"text-align: right;\">0.0</td><td style = \"text-align: right;\">0.0</td><td style = \"text-align: right;\">0.0</td><td style = \"text-align: right;\">0.0</td><td style = \"text-align: right;\">0.0</td><td style = \"text-align: right;\">0.0</td><td style = \"text-align: right;\">0.0</td><td style = \"text-align: right;\">0.0</td><td style = \"text-align: right;\">1.0</td><td style = \"text-align: right;\">0.0</td><td style = \"text-align: right;\">0.0</td><td style = \"text-align: right;\">0.0</td><td style = \"text-align: right;\">0.0</td><td style = \"text-align: right;\">0.0</td><td style = \"text-align: right;\">0.0</td><td style = \"text-align: right;\">0.0</td><td style = \"text-align: right;\">0.0</td><td style = \"text-align: right;\">0.0</td><td style = \"text-align: right;\">0.0</td><td style = \"text-align: right;\">0.0</td><td style = \"text-align: right;\">0.0</td><td style = \"text-align: right;\">0.0</td><td style = \"text-align: right;\">0.0</td><td style = \"text-align: right;\">0.0</td><td style = \"text-align: right;\">0.0</td><td style = \"text-align: right;\">0.0</td><td style = \"text-align: right;\">0.0</td><td style = \"text-align: right;\">0.0</td><td style = \"text-align: right;\">0.0</td><td style = \"text-align: right;\">0.0</td><td style = \"text-align: right;\">0.0</td><td style = \"text-align: right;\">0.0</td><td style = \"text-align: right;\">0.0</td><td style = \"text-align: right;\">0.0</td><td style = \"text-align: right;\">0.0</td><td style = \"text-align: right;\">0.0</td></tr><tr><td class = \"rowNumber\" style = \"font-weight: bold; text-align: right;\">2</td><td style = \"text-align: right;\">0.0</td><td style = \"text-align: right;\">1.0</td><td style = \"text-align: right;\">0.0</td><td style = \"text-align: right;\">0.0</td><td style = \"text-align: right;\">0.0</td><td style = \"text-align: right;\">0.0</td><td style = \"text-align: right;\">0.0</td><td style = \"text-align: right;\">0.0</td><td style = \"text-align: right;\">0.0</td><td style = \"text-align: right;\">0.0</td><td style = \"text-align: right;\">0.0</td><td style = \"text-align: right;\">0.0</td><td style = \"text-align: right;\">0.0</td><td style = \"text-align: right;\">0.0</td><td style = \"text-align: right;\">0.0</td><td style = \"text-align: right;\">0.0</td><td style = \"text-align: right;\">0.0</td><td style = \"text-align: right;\">0.0</td><td style = \"text-align: right;\">0.0</td><td style = \"text-align: right;\">0.0</td><td style = \"text-align: right;\">0.0</td><td style = \"text-align: right;\">0.0</td><td style = \"text-align: right;\">0.0</td><td style = \"text-align: right;\">0.0</td><td style = \"text-align: right;\">0.0</td><td style = \"text-align: right;\">0.0</td><td style = \"text-align: right;\">0.0</td><td style = \"text-align: right;\">0.0</td><td style = \"text-align: right;\">0.0</td><td style = \"text-align: right;\">1.0</td><td style = \"text-align: right;\">0.0</td><td style = \"text-align: right;\">0.0</td><td style = \"text-align: right;\">0.0</td><td style = \"text-align: right;\">0.0</td><td style = \"text-align: right;\">0.0</td><td style = \"text-align: right;\">0.0</td><td style = \"text-align: right;\">0.0</td><td style = \"text-align: right;\">0.0</td><td style = \"text-align: right;\">0.0</td><td style = \"text-align: right;\">0.0</td><td style = \"text-align: right;\">0.0</td><td style = \"text-align: right;\">0.0</td><td style = \"text-align: right;\">0.0</td><td style = \"text-align: right;\">0.0</td><td style = \"text-align: right;\">0.0</td><td style = \"text-align: right;\">0.0</td><td style = \"text-align: right;\">0.0</td><td style = \"text-align: right;\">0.0</td><td style = \"text-align: right;\">0.0</td><td style = \"text-align: right;\">0.0</td><td style = \"text-align: right;\">0.0</td><td style = \"text-align: right;\">0.0</td><td style = \"text-align: right;\">0.0</td><td style = \"text-align: right;\">0.0</td><td style = \"text-align: right;\">0.0</td><td style = \"text-align: right;\">0.0</td></tr><tr><td class = \"rowNumber\" style = \"font-weight: bold; text-align: right;\">3</td><td style = \"text-align: right;\">0.0</td><td style = \"text-align: right;\">0.0</td><td style = \"text-align: right;\">1.0</td><td style = \"text-align: right;\">0.0</td><td style = \"text-align: right;\">0.0</td><td style = \"text-align: right;\">0.0</td><td style = \"text-align: right;\">0.0</td><td style = \"text-align: right;\">0.0</td><td style = \"text-align: right;\">0.0</td><td style = \"text-align: right;\">0.0</td><td style = \"text-align: right;\">0.0</td><td style = \"text-align: right;\">0.0</td><td style = \"text-align: right;\">0.0</td><td style = \"text-align: right;\">0.0</td><td style = \"text-align: right;\">0.0</td><td style = \"text-align: right;\">0.0</td><td style = \"text-align: right;\">0.0</td><td style = \"text-align: right;\">0.0</td><td style = \"text-align: right;\">0.0</td><td style = \"text-align: right;\">0.0</td><td style = \"text-align: right;\">0.0</td><td style = \"text-align: right;\">0.0</td><td style = \"text-align: right;\">0.0</td><td style = \"text-align: right;\">0.0</td><td style = \"text-align: right;\">0.0</td><td style = \"text-align: right;\">0.0</td><td style = \"text-align: right;\">0.0</td><td style = \"text-align: right;\">0.0</td><td style = \"text-align: right;\">0.0</td><td style = \"text-align: right;\">0.0</td><td style = \"text-align: right;\">1.0</td><td style = \"text-align: right;\">0.0</td><td style = \"text-align: right;\">0.0</td><td style = \"text-align: right;\">0.0</td><td style = \"text-align: right;\">0.0</td><td style = \"text-align: right;\">0.0</td><td style = \"text-align: right;\">0.0</td><td style = \"text-align: right;\">0.0</td><td style = \"text-align: right;\">0.0</td><td style = \"text-align: right;\">0.0</td><td style = \"text-align: right;\">0.0</td><td style = \"text-align: right;\">0.0</td><td style = \"text-align: right;\">0.0</td><td style = \"text-align: right;\">0.0</td><td style = \"text-align: right;\">0.0</td><td style = \"text-align: right;\">0.0</td><td style = \"text-align: right;\">0.0</td><td style = \"text-align: right;\">0.0</td><td style = \"text-align: right;\">0.0</td><td style = \"text-align: right;\">0.0</td><td style = \"text-align: right;\">0.0</td><td style = \"text-align: right;\">0.0</td><td style = \"text-align: right;\">0.0</td><td style = \"text-align: right;\">0.0</td><td style = \"text-align: right;\">0.0</td><td style = \"text-align: right;\">0.0</td></tr><tr><td class = \"rowNumber\" style = \"font-weight: bold; text-align: right;\">4</td><td style = \"text-align: right;\">0.0</td><td style = \"text-align: right;\">0.0</td><td style = \"text-align: right;\">0.0</td><td style = \"text-align: right;\">1.0</td><td style = \"text-align: right;\">0.0</td><td style = \"text-align: right;\">0.0</td><td style = \"text-align: right;\">0.0</td><td style = \"text-align: right;\">0.0</td><td style = \"text-align: right;\">0.0</td><td style = \"text-align: right;\">0.0</td><td style = \"text-align: right;\">0.0</td><td style = \"text-align: right;\">0.0</td><td style = \"text-align: right;\">0.0</td><td style = \"text-align: right;\">0.0</td><td style = \"text-align: right;\">0.0</td><td style = \"text-align: right;\">0.0</td><td style = \"text-align: right;\">0.0</td><td style = \"text-align: right;\">0.0</td><td style = \"text-align: right;\">0.0</td><td style = \"text-align: right;\">0.0</td><td style = \"text-align: right;\">0.0</td><td style = \"text-align: right;\">0.0</td><td style = \"text-align: right;\">0.0</td><td style = \"text-align: right;\">0.0</td><td style = \"text-align: right;\">0.0</td><td style = \"text-align: right;\">0.0</td><td style = \"text-align: right;\">0.0</td><td style = \"text-align: right;\">0.0</td><td style = \"text-align: right;\">0.0</td><td style = \"text-align: right;\">0.0</td><td style = \"text-align: right;\">0.0</td><td style = \"text-align: right;\">1.0</td><td style = \"text-align: right;\">0.0</td><td style = \"text-align: right;\">0.0</td><td style = \"text-align: right;\">0.0</td><td style = \"text-align: right;\">0.0</td><td style = \"text-align: right;\">0.0</td><td style = \"text-align: right;\">0.0</td><td style = \"text-align: right;\">0.0</td><td style = \"text-align: right;\">0.0</td><td style = \"text-align: right;\">0.0</td><td style = \"text-align: right;\">0.0</td><td style = \"text-align: right;\">0.0</td><td style = \"text-align: right;\">0.0</td><td style = \"text-align: right;\">0.0</td><td style = \"text-align: right;\">0.0</td><td style = \"text-align: right;\">0.0</td><td style = \"text-align: right;\">0.0</td><td style = \"text-align: right;\">0.0</td><td style = \"text-align: right;\">0.0</td><td style = \"text-align: right;\">0.0</td><td style = \"text-align: right;\">0.0</td><td style = \"text-align: right;\">0.0</td><td style = \"text-align: right;\">0.0</td><td style = \"text-align: right;\">0.0</td><td style = \"text-align: right;\">0.0</td></tr><tr><td class = \"rowNumber\" style = \"font-weight: bold; text-align: right;\">5</td><td style = \"text-align: right;\">0.0</td><td style = \"text-align: right;\">0.0</td><td style = \"text-align: right;\">0.0</td><td style = \"text-align: right;\">0.0</td><td style = \"text-align: right;\">1.0</td><td style = \"text-align: right;\">0.0</td><td style = \"text-align: right;\">0.0</td><td style = \"text-align: right;\">0.0</td><td style = \"text-align: right;\">0.0</td><td style = \"text-align: right;\">0.0</td><td style = \"text-align: right;\">0.0</td><td style = \"text-align: right;\">0.0</td><td style = \"text-align: right;\">0.0</td><td style = \"text-align: right;\">0.0</td><td style = \"text-align: right;\">0.0</td><td style = \"text-align: right;\">0.0</td><td style = \"text-align: right;\">0.0</td><td style = \"text-align: right;\">0.0</td><td style = \"text-align: right;\">0.0</td><td style = \"text-align: right;\">0.0</td><td style = \"text-align: right;\">0.0</td><td style = \"text-align: right;\">0.0</td><td style = \"text-align: right;\">0.0</td><td style = \"text-align: right;\">0.0</td><td style = \"text-align: right;\">0.0</td><td style = \"text-align: right;\">0.0</td><td style = \"text-align: right;\">0.0</td><td style = \"text-align: right;\">0.0</td><td style = \"text-align: right;\">0.0</td><td style = \"text-align: right;\">0.0</td><td style = \"text-align: right;\">0.0</td><td style = \"text-align: right;\">0.0</td><td style = \"text-align: right;\">1.0</td><td style = \"text-align: right;\">0.0</td><td style = \"text-align: right;\">0.0</td><td style = \"text-align: right;\">0.0</td><td style = \"text-align: right;\">0.0</td><td style = \"text-align: right;\">0.0</td><td style = \"text-align: right;\">0.0</td><td style = \"text-align: right;\">0.0</td><td style = \"text-align: right;\">0.0</td><td style = \"text-align: right;\">0.0</td><td style = \"text-align: right;\">0.0</td><td style = \"text-align: right;\">0.0</td><td style = \"text-align: right;\">0.0</td><td style = \"text-align: right;\">0.0</td><td style = \"text-align: right;\">0.0</td><td style = \"text-align: right;\">0.0</td><td style = \"text-align: right;\">0.0</td><td style = \"text-align: right;\">0.0</td><td style = \"text-align: right;\">0.0</td><td style = \"text-align: right;\">0.0</td><td style = \"text-align: right;\">0.0</td><td style = \"text-align: right;\">0.0</td><td style = \"text-align: right;\">0.0</td><td style = \"text-align: right;\">0.0</td></tr><tr><td class = \"rowNumber\" style = \"font-weight: bold; text-align: right;\">6</td><td style = \"text-align: right;\">0.0</td><td style = \"text-align: right;\">0.0</td><td style = \"text-align: right;\">0.0</td><td style = \"text-align: right;\">0.0</td><td style = \"text-align: right;\">0.0</td><td style = \"text-align: right;\">1.0</td><td style = \"text-align: right;\">0.0</td><td style = \"text-align: right;\">0.0</td><td style = \"text-align: right;\">0.0</td><td style = \"text-align: right;\">0.0</td><td style = \"text-align: right;\">0.0</td><td style = \"text-align: right;\">0.0</td><td style = \"text-align: right;\">0.0</td><td style = \"text-align: right;\">0.0</td><td style = \"text-align: right;\">0.0</td><td style = \"text-align: right;\">0.0</td><td style = \"text-align: right;\">0.0</td><td style = \"text-align: right;\">0.0</td><td style = \"text-align: right;\">0.0</td><td style = \"text-align: right;\">0.0</td><td style = \"text-align: right;\">0.0</td><td style = \"text-align: right;\">0.0</td><td style = \"text-align: right;\">0.0</td><td style = \"text-align: right;\">0.0</td><td style = \"text-align: right;\">0.0</td><td style = \"text-align: right;\">0.0</td><td style = \"text-align: right;\">0.0</td><td style = \"text-align: right;\">0.0</td><td style = \"text-align: right;\">0.0</td><td style = \"text-align: right;\">0.0</td><td style = \"text-align: right;\">0.0</td><td style = \"text-align: right;\">0.0</td><td style = \"text-align: right;\">0.0</td><td style = \"text-align: right;\">1.0</td><td style = \"text-align: right;\">0.0</td><td style = \"text-align: right;\">0.0</td><td style = \"text-align: right;\">0.0</td><td style = \"text-align: right;\">0.0</td><td style = \"text-align: right;\">0.0</td><td style = \"text-align: right;\">0.0</td><td style = \"text-align: right;\">0.0</td><td style = \"text-align: right;\">0.0</td><td style = \"text-align: right;\">0.0</td><td style = \"text-align: right;\">0.0</td><td style = \"text-align: right;\">0.0</td><td style = \"text-align: right;\">0.0</td><td style = \"text-align: right;\">0.0</td><td style = \"text-align: right;\">0.0</td><td style = \"text-align: right;\">0.0</td><td style = \"text-align: right;\">0.0</td><td style = \"text-align: right;\">0.0</td><td style = \"text-align: right;\">0.0</td><td style = \"text-align: right;\">0.0</td><td style = \"text-align: right;\">0.0</td><td style = \"text-align: right;\">0.0</td><td style = \"text-align: right;\">0.0</td></tr><tr><td class = \"rowNumber\" style = \"font-weight: bold; text-align: right;\">7</td><td style = \"text-align: right;\">0.0</td><td style = \"text-align: right;\">0.0</td><td style = \"text-align: right;\">0.0</td><td style = \"text-align: right;\">0.0</td><td style = \"text-align: right;\">0.0</td><td style = \"text-align: right;\">0.0</td><td style = \"text-align: right;\">1.0</td><td style = \"text-align: right;\">0.0</td><td style = \"text-align: right;\">0.0</td><td style = \"text-align: right;\">0.0</td><td style = \"text-align: right;\">0.0</td><td style = \"text-align: right;\">0.0</td><td style = \"text-align: right;\">0.0</td><td style = \"text-align: right;\">0.0</td><td style = \"text-align: right;\">0.0</td><td style = \"text-align: right;\">0.0</td><td style = \"text-align: right;\">0.0</td><td style = \"text-align: right;\">0.0</td><td style = \"text-align: right;\">0.0</td><td style = \"text-align: right;\">0.0</td><td style = \"text-align: right;\">0.0</td><td style = \"text-align: right;\">0.0</td><td style = \"text-align: right;\">0.0</td><td style = \"text-align: right;\">0.0</td><td style = \"text-align: right;\">0.0</td><td style = \"text-align: right;\">0.0</td><td style = \"text-align: right;\">0.0</td><td style = \"text-align: right;\">0.0</td><td style = \"text-align: right;\">0.0</td><td style = \"text-align: right;\">0.0</td><td style = \"text-align: right;\">0.0</td><td style = \"text-align: right;\">0.0</td><td style = \"text-align: right;\">0.0</td><td style = \"text-align: right;\">0.0</td><td style = \"text-align: right;\">1.0</td><td style = \"text-align: right;\">0.0</td><td style = \"text-align: right;\">0.0</td><td style = \"text-align: right;\">0.0</td><td style = \"text-align: right;\">0.0</td><td style = \"text-align: right;\">0.0</td><td style = \"text-align: right;\">0.0</td><td style = \"text-align: right;\">0.0</td><td style = \"text-align: right;\">0.0</td><td style = \"text-align: right;\">0.0</td><td style = \"text-align: right;\">0.0</td><td style = \"text-align: right;\">0.0</td><td style = \"text-align: right;\">0.0</td><td style = \"text-align: right;\">0.0</td><td style = \"text-align: right;\">0.0</td><td style = \"text-align: right;\">0.0</td><td style = \"text-align: right;\">0.0</td><td style = \"text-align: right;\">0.0</td><td style = \"text-align: right;\">0.0</td><td style = \"text-align: right;\">0.0</td><td style = \"text-align: right;\">0.0</td><td style = \"text-align: right;\">0.0</td></tr><tr><td class = \"rowNumber\" style = \"font-weight: bold; text-align: right;\">8</td><td style = \"text-align: right;\">0.0</td><td style = \"text-align: right;\">0.0</td><td style = \"text-align: right;\">0.0</td><td style = \"text-align: right;\">0.0</td><td style = \"text-align: right;\">0.0</td><td style = \"text-align: right;\">0.0</td><td style = \"text-align: right;\">0.0</td><td style = \"text-align: right;\">1.0</td><td style = \"text-align: right;\">0.0</td><td style = \"text-align: right;\">0.0</td><td style = \"text-align: right;\">0.0</td><td style = \"text-align: right;\">0.0</td><td style = \"text-align: right;\">0.0</td><td style = \"text-align: right;\">0.0</td><td style = \"text-align: right;\">0.0</td><td style = \"text-align: right;\">0.0</td><td style = \"text-align: right;\">0.0</td><td style = \"text-align: right;\">0.0</td><td style = \"text-align: right;\">0.0</td><td style = \"text-align: right;\">0.0</td><td style = \"text-align: right;\">0.0</td><td style = \"text-align: right;\">0.0</td><td style = \"text-align: right;\">0.0</td><td style = \"text-align: right;\">0.0</td><td style = \"text-align: right;\">0.0</td><td style = \"text-align: right;\">0.0</td><td style = \"text-align: right;\">0.0</td><td style = \"text-align: right;\">0.0</td><td style = \"text-align: right;\">0.0</td><td style = \"text-align: right;\">0.0</td><td style = \"text-align: right;\">0.0</td><td style = \"text-align: right;\">0.0</td><td style = \"text-align: right;\">0.0</td><td style = \"text-align: right;\">0.0</td><td style = \"text-align: right;\">0.0</td><td style = \"text-align: right;\">1.0</td><td style = \"text-align: right;\">0.0</td><td style = \"text-align: right;\">0.0</td><td style = \"text-align: right;\">0.0</td><td style = \"text-align: right;\">0.0</td><td style = \"text-align: right;\">0.0</td><td style = \"text-align: right;\">0.0</td><td style = \"text-align: right;\">0.0</td><td style = \"text-align: right;\">0.0</td><td style = \"text-align: right;\">0.0</td><td style = \"text-align: right;\">0.0</td><td style = \"text-align: right;\">0.0</td><td style = \"text-align: right;\">0.0</td><td style = \"text-align: right;\">0.0</td><td style = \"text-align: right;\">0.0</td><td style = \"text-align: right;\">0.0</td><td style = \"text-align: right;\">0.0</td><td style = \"text-align: right;\">0.0</td><td style = \"text-align: right;\">0.0</td><td style = \"text-align: right;\">0.0</td><td style = \"text-align: right;\">0.0</td></tr><tr><td class = \"rowNumber\" style = \"font-weight: bold; text-align: right;\">9</td><td style = \"text-align: right;\">0.0</td><td style = \"text-align: right;\">0.0</td><td style = \"text-align: right;\">0.0</td><td style = \"text-align: right;\">0.0</td><td style = \"text-align: right;\">0.0</td><td style = \"text-align: right;\">0.0</td><td style = \"text-align: right;\">0.0</td><td style = \"text-align: right;\">0.0</td><td style = \"text-align: right;\">1.0</td><td style = \"text-align: right;\">0.0</td><td style = \"text-align: right;\">0.0</td><td style = \"text-align: right;\">0.0</td><td style = \"text-align: right;\">0.0</td><td style = \"text-align: right;\">0.0</td><td style = \"text-align: right;\">0.0</td><td style = \"text-align: right;\">0.0</td><td style = \"text-align: right;\">0.0</td><td style = \"text-align: right;\">0.0</td><td style = \"text-align: right;\">0.0</td><td style = \"text-align: right;\">0.0</td><td style = \"text-align: right;\">0.0</td><td style = \"text-align: right;\">0.0</td><td style = \"text-align: right;\">0.0</td><td style = \"text-align: right;\">0.0</td><td style = \"text-align: right;\">0.0</td><td style = \"text-align: right;\">0.0</td><td style = \"text-align: right;\">0.0</td><td style = \"text-align: right;\">0.0</td><td style = \"text-align: right;\">0.0</td><td style = \"text-align: right;\">0.0</td><td style = \"text-align: right;\">0.0</td><td style = \"text-align: right;\">0.0</td><td style = \"text-align: right;\">0.0</td><td style = \"text-align: right;\">0.0</td><td style = \"text-align: right;\">0.0</td><td style = \"text-align: right;\">0.0</td><td style = \"text-align: right;\">1.0</td><td style = \"text-align: right;\">0.0</td><td style = \"text-align: right;\">0.0</td><td style = \"text-align: right;\">0.0</td><td style = \"text-align: right;\">0.0</td><td style = \"text-align: right;\">0.0</td><td style = \"text-align: right;\">0.0</td><td style = \"text-align: right;\">0.0</td><td style = \"text-align: right;\">0.0</td><td style = \"text-align: right;\">0.0</td><td style = \"text-align: right;\">0.0</td><td style = \"text-align: right;\">0.0</td><td style = \"text-align: right;\">0.0</td><td style = \"text-align: right;\">0.0</td><td style = \"text-align: right;\">0.0</td><td style = \"text-align: right;\">0.0</td><td style = \"text-align: right;\">0.0</td><td style = \"text-align: right;\">0.0</td><td style = \"text-align: right;\">0.0</td><td style = \"text-align: right;\">0.0</td></tr><tr><td class = \"rowNumber\" style = \"font-weight: bold; text-align: right;\">10</td><td style = \"text-align: right;\">0.0</td><td style = \"text-align: right;\">0.0</td><td style = \"text-align: right;\">0.0</td><td style = \"text-align: right;\">0.0</td><td style = \"text-align: right;\">0.0</td><td style = \"text-align: right;\">0.0</td><td style = \"text-align: right;\">0.0</td><td style = \"text-align: right;\">0.0</td><td style = \"text-align: right;\">0.0</td><td style = \"text-align: right;\">1.0</td><td style = \"text-align: right;\">0.0</td><td style = \"text-align: right;\">0.0</td><td style = \"text-align: right;\">0.0</td><td style = \"text-align: right;\">0.0</td><td style = \"text-align: right;\">0.0</td><td style = \"text-align: right;\">0.0</td><td style = \"text-align: right;\">0.0</td><td style = \"text-align: right;\">0.0</td><td style = \"text-align: right;\">0.0</td><td style = \"text-align: right;\">0.0</td><td style = \"text-align: right;\">0.0</td><td style = \"text-align: right;\">0.0</td><td style = \"text-align: right;\">0.0</td><td style = \"text-align: right;\">0.0</td><td style = \"text-align: right;\">0.0</td><td style = \"text-align: right;\">0.0</td><td style = \"text-align: right;\">0.0</td><td style = \"text-align: right;\">0.0</td><td style = \"text-align: right;\">0.0</td><td style = \"text-align: right;\">0.0</td><td style = \"text-align: right;\">0.0</td><td style = \"text-align: right;\">0.0</td><td style = \"text-align: right;\">0.0</td><td style = \"text-align: right;\">0.0</td><td style = \"text-align: right;\">0.0</td><td style = \"text-align: right;\">0.0</td><td style = \"text-align: right;\">0.0</td><td style = \"text-align: right;\">1.0</td><td style = \"text-align: right;\">0.0</td><td style = \"text-align: right;\">0.0</td><td style = \"text-align: right;\">0.0</td><td style = \"text-align: right;\">0.0</td><td style = \"text-align: right;\">0.0</td><td style = \"text-align: right;\">0.0</td><td style = \"text-align: right;\">0.0</td><td style = \"text-align: right;\">0.0</td><td style = \"text-align: right;\">0.0</td><td style = \"text-align: right;\">0.0</td><td style = \"text-align: right;\">0.0</td><td style = \"text-align: right;\">0.0</td><td style = \"text-align: right;\">0.0</td><td style = \"text-align: right;\">0.0</td><td style = \"text-align: right;\">0.0</td><td style = \"text-align: right;\">0.0</td><td style = \"text-align: right;\">0.0</td><td style = \"text-align: right;\">0.0</td></tr></tbody></table></div>"
      ],
      "text/latex": [
       "\\begin{tabular}{r|cccccccccc}\n",
       "\t& x1 & x2 & x3 & x4 & x5 & x6 & x7 & x8 & x9 & \\\\\n",
       "\t\\hline\n",
       "\t& Float64 & Float64 & Float64 & Float64 & Float64 & Float64 & Float64 & Float64 & Float64 & \\\\\n",
       "\t\\hline\n",
       "\t1 & 1.0 & 0.0 & 0.0 & 0.0 & 0.0 & 0.0 & 0.0 & 0.0 & 0.0 & $\\dots$ \\\\\n",
       "\t2 & 0.0 & 1.0 & 0.0 & 0.0 & 0.0 & 0.0 & 0.0 & 0.0 & 0.0 & $\\dots$ \\\\\n",
       "\t3 & 0.0 & 0.0 & 1.0 & 0.0 & 0.0 & 0.0 & 0.0 & 0.0 & 0.0 & $\\dots$ \\\\\n",
       "\t4 & 0.0 & 0.0 & 0.0 & 1.0 & 0.0 & 0.0 & 0.0 & 0.0 & 0.0 & $\\dots$ \\\\\n",
       "\t5 & 0.0 & 0.0 & 0.0 & 0.0 & 1.0 & 0.0 & 0.0 & 0.0 & 0.0 & $\\dots$ \\\\\n",
       "\t6 & 0.0 & 0.0 & 0.0 & 0.0 & 0.0 & 1.0 & 0.0 & 0.0 & 0.0 & $\\dots$ \\\\\n",
       "\t7 & 0.0 & 0.0 & 0.0 & 0.0 & 0.0 & 0.0 & 1.0 & 0.0 & 0.0 & $\\dots$ \\\\\n",
       "\t8 & 0.0 & 0.0 & 0.0 & 0.0 & 0.0 & 0.0 & 0.0 & 1.0 & 0.0 & $\\dots$ \\\\\n",
       "\t9 & 0.0 & 0.0 & 0.0 & 0.0 & 0.0 & 0.0 & 0.0 & 0.0 & 1.0 & $\\dots$ \\\\\n",
       "\t10 & 0.0 & 0.0 & 0.0 & 0.0 & 0.0 & 0.0 & 0.0 & 0.0 & 0.0 & $\\dots$ \\\\\n",
       "\\end{tabular}\n"
      ],
      "text/plain": [
       "\u001b[1m10×56 DataFrame\u001b[0m\n",
       "\u001b[1m Row \u001b[0m│\u001b[1m x1      \u001b[0m\u001b[1m x2      \u001b[0m\u001b[1m x3      \u001b[0m\u001b[1m x4      \u001b[0m\u001b[1m x5      \u001b[0m\u001b[1m x6      \u001b[0m\u001b[1m x7      \u001b[0m\u001b[1m x8      \u001b[0m\u001b[1m\u001b[0m ⋯\n",
       "     │\u001b[90m Float64 \u001b[0m\u001b[90m Float64 \u001b[0m\u001b[90m Float64 \u001b[0m\u001b[90m Float64 \u001b[0m\u001b[90m Float64 \u001b[0m\u001b[90m Float64 \u001b[0m\u001b[90m Float64 \u001b[0m\u001b[90m Float64 \u001b[0m\u001b[90m\u001b[0m ⋯\n",
       "─────┼──────────────────────────────────────────────────────────────────────────\n",
       "   1 │     1.0      0.0      0.0      0.0      0.0      0.0      0.0      0.0  ⋯\n",
       "   2 │     0.0      1.0      0.0      0.0      0.0      0.0      0.0      0.0\n",
       "   3 │     0.0      0.0      1.0      0.0      0.0      0.0      0.0      0.0\n",
       "   4 │     0.0      0.0      0.0      1.0      0.0      0.0      0.0      0.0\n",
       "   5 │     0.0      0.0      0.0      0.0      1.0      0.0      0.0      0.0  ⋯\n",
       "   6 │     0.0      0.0      0.0      0.0      0.0      1.0      0.0      0.0\n",
       "   7 │     0.0      0.0      0.0      0.0      0.0      0.0      1.0      0.0\n",
       "   8 │     0.0      0.0      0.0      0.0      0.0      0.0      0.0      1.0\n",
       "   9 │     0.0      0.0      0.0      0.0      0.0      0.0      0.0      0.0  ⋯\n",
       "  10 │     0.0      0.0      0.0      0.0      0.0      0.0      0.0      0.0\n",
       "\u001b[36m                                                              48 columns omitted\u001b[0m"
      ]
     },
     "execution_count": 26,
     "metadata": {},
     "output_type": "execute_result"
    }
   ],
   "source": [
    "pohe = catf |> ohe\n",
    "tr = fit_transform!(pohe,X,Y)\n",
    "head(tr)"
   ]
  },
  {
   "cell_type": "markdown",
   "id": "bb600172-02b8-4cc7-b569-f764c08b3121",
   "metadata": {
    "editable": false,
    "slideshow": {
     "slide_type": "subslide"
    },
    "tags": []
   },
   "source": [
    "### Pipeline to transform numerical features to pca and ica and concatenate them"
   ]
  },
  {
   "cell_type": "code",
   "execution_count": 27,
   "id": "232fa3e8-c427-4960-8349-7de83ae0b663",
   "metadata": {
    "editable": false,
    "slideshow": {
     "slide_type": "fragment"
    },
    "tags": []
   },
   "outputs": [
    {
     "data": {
      "text/html": [
       "<div><div style = \"float: left;\"><span>10×8 DataFrame</span></div><div style = \"clear: both;\"></div></div><div class = \"data-frame\" style = \"overflow-x: scroll;\"><table class = \"data-frame\" style = \"margin-bottom: 6px;\"><thead><tr class = \"header\"><th class = \"rowNumber\" style = \"font-weight: bold; text-align: right;\">Row</th><th style = \"text-align: left;\">x1</th><th style = \"text-align: left;\">x2</th><th style = \"text-align: left;\">x3</th><th style = \"text-align: left;\">x4</th><th style = \"text-align: left;\">x1_1</th><th style = \"text-align: left;\">x2_1</th><th style = \"text-align: left;\">x3_1</th><th style = \"text-align: left;\">x4_1</th></tr><tr class = \"subheader headerLastRow\"><th class = \"rowNumber\" style = \"font-weight: bold; text-align: right;\"></th><th title = \"Float64\" style = \"text-align: left;\">Float64</th><th title = \"Float64\" style = \"text-align: left;\">Float64</th><th title = \"Float64\" style = \"text-align: left;\">Float64</th><th title = \"Float64\" style = \"text-align: left;\">Float64</th><th title = \"Float64\" style = \"text-align: left;\">Float64</th><th title = \"Float64\" style = \"text-align: left;\">Float64</th><th title = \"Float64\" style = \"text-align: left;\">Float64</th><th title = \"Float64\" style = \"text-align: left;\">Float64</th></tr></thead><tbody><tr><td class = \"rowNumber\" style = \"font-weight: bold; text-align: right;\">1</td><td style = \"text-align: right;\">2.47477</td><td style = \"text-align: right;\">7.87074</td><td style = \"text-align: right;\">-1.10495</td><td style = \"text-align: right;\">0.902431</td><td style = \"text-align: right;\">0.433184</td><td style = \"text-align: right;\">0.0796294</td><td style = \"text-align: right;\">1.21188</td><td style = \"text-align: right;\">-0.696399</td></tr><tr><td class = \"rowNumber\" style = \"font-weight: bold; text-align: right;\">2</td><td style = \"text-align: right;\">-5.47113</td><td style = \"text-align: right;\">-3.82946</td><td style = \"text-align: right;\">-2.08342</td><td style = \"text-align: right;\">1.00524</td><td style = \"text-align: right;\">-0.851126</td><td style = \"text-align: right;\">-0.566853</td><td style = \"text-align: right;\">1.16879</td><td style = \"text-align: right;\">-0.17776</td></tr><tr><td class = \"rowNumber\" style = \"font-weight: bold; text-align: right;\">3</td><td style = \"text-align: right;\">30.4068</td><td style = \"text-align: right;\">-10.8073</td><td style = \"text-align: right;\">-6.12339</td><td style = \"text-align: right;\">0.883938</td><td style = \"text-align: right;\">-1.91215</td><td style = \"text-align: right;\">2.99234</td><td style = \"text-align: right;\">1.1004</td><td style = \"text-align: right;\">-1.30033</td></tr><tr><td class = \"rowNumber\" style = \"font-weight: bold; text-align: right;\">4</td><td style = \"text-align: right;\">8.18372</td><td style = \"text-align: right;\">-15.507</td><td style = \"text-align: right;\">-1.43203</td><td style = \"text-align: right;\">1.08255</td><td style = \"text-align: right;\">-1.70283</td><td style = \"text-align: right;\">0.955814</td><td style = \"text-align: right;\">1.18439</td><td style = \"text-align: right;\">0.499145</td></tr><tr><td class = \"rowNumber\" style = \"font-weight: bold; text-align: right;\">5</td><td style = \"text-align: right;\">16.6176</td><td style = \"text-align: right;\">-6.68636</td><td style = \"text-align: right;\">-1.66597</td><td style = \"text-align: right;\">0.978243</td><td style = \"text-align: right;\">-0.88172</td><td style = \"text-align: right;\">1.66475</td><td style = \"text-align: right;\">1.19639</td><td style = \"text-align: right;\">-0.180815</td></tr><tr><td class = \"rowNumber\" style = \"font-weight: bold; text-align: right;\">6</td><td style = \"text-align: right;\">10.2588</td><td style = \"text-align: right;\">5.22112</td><td style = \"text-align: right;\">0.0731649</td><td style = \"text-align: right;\">0.928496</td><td style = \"text-align: right;\">0.44797</td><td style = \"text-align: right;\">0.909697</td><td style = \"text-align: right;\">1.24403</td><td style = \"text-align: right;\">-0.328454</td></tr><tr><td class = \"rowNumber\" style = \"font-weight: bold; text-align: right;\">7</td><td style = \"text-align: right;\">7.13435</td><td style = \"text-align: right;\">5.60902</td><td style = \"text-align: right;\">0.368661</td><td style = \"text-align: right;\">0.939797</td><td style = \"text-align: right;\">0.510885</td><td style = \"text-align: right;\">0.601575</td><td style = \"text-align: right;\">1.24843</td><td style = \"text-align: right;\">-0.232919</td></tr><tr><td class = \"rowNumber\" style = \"font-weight: bold; text-align: right;\">8</td><td style = \"text-align: right;\">-1.16369</td><td style = \"text-align: right;\">10.3011</td><td style = \"text-align: right;\">-2.15564</td><td style = \"text-align: right;\">0.86957</td><td style = \"text-align: right;\">0.449727</td><td style = \"text-align: right;\">-0.33492</td><td style = \"text-align: right;\">1.18641</td><td style = \"text-align: right;\">-1.07025</td></tr><tr><td class = \"rowNumber\" style = \"font-weight: bold; text-align: right;\">9</td><td style = \"text-align: right;\">-6.38764</td><td style = \"text-align: right;\">-4.92017</td><td style = \"text-align: right;\">-3.57339</td><td style = \"text-align: right;\">0.986345</td><td style = \"text-align: right;\">-1.20905</td><td style = \"text-align: right;\">-0.673366</td><td style = \"text-align: right;\">1.13179</td><td style = \"text-align: right;\">-0.498682</td></tr><tr><td class = \"rowNumber\" style = \"font-weight: bold; text-align: right;\">10</td><td style = \"text-align: right;\">17.0567</td><td style = \"text-align: right;\">0.672</td><td style = \"text-align: right;\">-3.29448</td><td style = \"text-align: right;\">0.879581</td><td style = \"text-align: right;\">-0.486706</td><td style = \"text-align: right;\">1.57433</td><td style = \"text-align: right;\">1.16653</td><td style = \"text-align: right;\">-1.04527</td></tr></tbody></table></div>"
      ],
      "text/latex": [
       "\\begin{tabular}{r|cccccccc}\n",
       "\t& x1 & x2 & x3 & x4 & x1\\_1 & x2\\_1 & x3\\_1 & x4\\_1\\\\\n",
       "\t\\hline\n",
       "\t& Float64 & Float64 & Float64 & Float64 & Float64 & Float64 & Float64 & Float64\\\\\n",
       "\t\\hline\n",
       "\t1 & 2.47477 & 7.87074 & -1.10495 & 0.902431 & 0.433184 & 0.0796294 & 1.21188 & -0.696399 \\\\\n",
       "\t2 & -5.47113 & -3.82946 & -2.08342 & 1.00524 & -0.851126 & -0.566853 & 1.16879 & -0.17776 \\\\\n",
       "\t3 & 30.4068 & -10.8073 & -6.12339 & 0.883938 & -1.91215 & 2.99234 & 1.1004 & -1.30033 \\\\\n",
       "\t4 & 8.18372 & -15.507 & -1.43203 & 1.08255 & -1.70283 & 0.955814 & 1.18439 & 0.499145 \\\\\n",
       "\t5 & 16.6176 & -6.68636 & -1.66597 & 0.978243 & -0.88172 & 1.66475 & 1.19639 & -0.180815 \\\\\n",
       "\t6 & 10.2588 & 5.22112 & 0.0731649 & 0.928496 & 0.44797 & 0.909697 & 1.24403 & -0.328454 \\\\\n",
       "\t7 & 7.13435 & 5.60902 & 0.368661 & 0.939797 & 0.510885 & 0.601575 & 1.24843 & -0.232919 \\\\\n",
       "\t8 & -1.16369 & 10.3011 & -2.15564 & 0.86957 & 0.449727 & -0.33492 & 1.18641 & -1.07025 \\\\\n",
       "\t9 & -6.38764 & -4.92017 & -3.57339 & 0.986345 & -1.20905 & -0.673366 & 1.13179 & -0.498682 \\\\\n",
       "\t10 & 17.0567 & 0.672 & -3.29448 & 0.879581 & -0.486706 & 1.57433 & 1.16653 & -1.04527 \\\\\n",
       "\\end{tabular}\n"
      ],
      "text/plain": [
       "\u001b[1m10×8 DataFrame\u001b[0m\n",
       "\u001b[1m Row \u001b[0m│\u001b[1m x1       \u001b[0m\u001b[1m x2        \u001b[0m\u001b[1m x3         \u001b[0m\u001b[1m x4       \u001b[0m\u001b[1m x1_1      \u001b[0m\u001b[1m x2_1       \u001b[0m\u001b[1m x3_1 \u001b[0m ⋯\n",
       "     │\u001b[90m Float64  \u001b[0m\u001b[90m Float64   \u001b[0m\u001b[90m Float64    \u001b[0m\u001b[90m Float64  \u001b[0m\u001b[90m Float64   \u001b[0m\u001b[90m Float64    \u001b[0m\u001b[90m Float\u001b[0m ⋯\n",
       "─────┼──────────────────────────────────────────────────────────────────────────\n",
       "   1 │  2.47477    7.87074  -1.10495    0.902431   0.433184   0.0796294  1.211 ⋯\n",
       "   2 │ -5.47113   -3.82946  -2.08342    1.00524   -0.851126  -0.566853   1.168\n",
       "   3 │ 30.4068   -10.8073   -6.12339    0.883938  -1.91215    2.99234    1.100\n",
       "   4 │  8.18372  -15.507    -1.43203    1.08255   -1.70283    0.955814   1.184\n",
       "   5 │ 16.6176    -6.68636  -1.66597    0.978243  -0.88172    1.66475    1.196 ⋯\n",
       "   6 │ 10.2588     5.22112   0.0731649  0.928496   0.44797    0.909697   1.244\n",
       "   7 │  7.13435    5.60902   0.368661   0.939797   0.510885   0.601575   1.248\n",
       "   8 │ -1.16369   10.3011   -2.15564    0.86957    0.449727  -0.33492    1.186\n",
       "   9 │ -6.38764   -4.92017  -3.57339    0.986345  -1.20905   -0.673366   1.131 ⋯\n",
       "  10 │ 17.0567     0.672    -3.29448    0.879581  -0.486706   1.57433    1.166\n",
       "\u001b[36m                                                               2 columns omitted\u001b[0m"
      ]
     },
     "execution_count": 27,
     "metadata": {},
     "output_type": "execute_result"
    }
   ],
   "source": [
    "pdec = (numf |> pca) + (numf |> ica)\n",
    "tr = fit_transform!(pdec,X,Y)\n",
    "head(tr)"
   ]
  },
  {
   "cell_type": "markdown",
   "id": "06edc5b2-1f16-4d01-8ac9-cda737cbad19",
   "metadata": {
    "editable": false,
    "slideshow": {
     "slide_type": "subslide"
    },
    "tags": []
   },
   "source": [
    "### More complex pipeline with robust scaling and power transform"
   ]
  },
  {
   "cell_type": "code",
   "execution_count": 28,
   "id": "41ba7f8c-f20d-4507-b2ee-d02a0d1ca7e6",
   "metadata": {
    "editable": false,
    "slideshow": {
     "slide_type": "fragment"
    },
    "tags": []
   },
   "outputs": [
    {
     "data": {
      "text/html": [
       "<div><div style = \"float: left;\"><span>10×8 DataFrame</span></div><div style = \"clear: both;\"></div></div><div class = \"data-frame\" style = \"overflow-x: scroll;\"><table class = \"data-frame\" style = \"margin-bottom: 6px;\"><thead><tr class = \"header\"><th class = \"rowNumber\" style = \"font-weight: bold; text-align: right;\">Row</th><th style = \"text-align: left;\">x1</th><th style = \"text-align: left;\">x2</th><th style = \"text-align: left;\">x3</th><th style = \"text-align: left;\">x4</th><th style = \"text-align: left;\">x1_1</th><th style = \"text-align: left;\">x2_1</th><th style = \"text-align: left;\">x3_1</th><th style = \"text-align: left;\">x4_1</th></tr><tr class = \"subheader headerLastRow\"><th class = \"rowNumber\" style = \"font-weight: bold; text-align: right;\"></th><th title = \"Float64\" style = \"text-align: left;\">Float64</th><th title = \"Float64\" style = \"text-align: left;\">Float64</th><th title = \"Float64\" style = \"text-align: left;\">Float64</th><th title = \"Float64\" style = \"text-align: left;\">Float64</th><th title = \"Float64\" style = \"text-align: left;\">Float64</th><th title = \"Float64\" style = \"text-align: left;\">Float64</th><th title = \"Float64\" style = \"text-align: left;\">Float64</th><th title = \"Float64\" style = \"text-align: left;\">Float64</th></tr></thead><tbody><tr><td class = \"rowNumber\" style = \"font-weight: bold; text-align: right;\">1</td><td style = \"text-align: right;\">0.0797428</td><td style = \"text-align: right;\">0.433233</td><td style = \"text-align: right;\">0.696339</td><td style = \"text-align: right;\">-1.21189</td><td style = \"text-align: right;\">-0.64552</td><td style = \"text-align: right;\">1.40289</td><td style = \"text-align: right;\">-0.0284468</td><td style = \"text-align: right;\">0.111773</td></tr><tr><td class = \"rowNumber\" style = \"font-weight: bold; text-align: right;\">2</td><td style = \"text-align: right;\">-0.566905</td><td style = \"text-align: right;\">-0.851057</td><td style = \"text-align: right;\">0.177854</td><td style = \"text-align: right;\">-1.1688</td><td style = \"text-align: right;\">-0.832404</td><td style = \"text-align: right;\">0.475629</td><td style = \"text-align: right;\">-1.14881</td><td style = \"text-align: right;\">-0.01702</td></tr><tr><td class = \"rowNumber\" style = \"font-weight: bold; text-align: right;\">3</td><td style = \"text-align: right;\">2.99223</td><td style = \"text-align: right;\">-1.91236</td><td style = \"text-align: right;\">1.30034</td><td style = \"text-align: right;\">-1.10032</td><td style = \"text-align: right;\">1.54491</td><td style = \"text-align: right;\">1.65258</td><td style = \"text-align: right;\">-1.35967</td><td style = \"text-align: right;\">-2.57866</td></tr><tr><td class = \"rowNumber\" style = \"font-weight: bold; text-align: right;\">4</td><td style = \"text-align: right;\">0.955637</td><td style = \"text-align: right;\">-1.70299</td><td style = \"text-align: right;\">-0.49905</td><td style = \"text-align: right;\">-1.18435</td><td style = \"text-align: right;\">1.32065</td><td style = \"text-align: right;\">0.563565</td><td style = \"text-align: right;\">-2.05839</td><td style = \"text-align: right;\">-0.74898</td></tr><tr><td class = \"rowNumber\" style = \"font-weight: bold; text-align: right;\">5</td><td style = \"text-align: right;\">1.6647</td><td style = \"text-align: right;\">-0.881889</td><td style = \"text-align: right;\">0.180796</td><td style = \"text-align: right;\">-1.19634</td><td style = \"text-align: right;\">1.1223</td><td style = \"text-align: right;\">1.45555</td><td style = \"text-align: right;\">-0.88864</td><td style = \"text-align: right;\">-0.776195</td></tr><tr><td class = \"rowNumber\" style = \"font-weight: bold; text-align: right;\">6</td><td style = \"text-align: right;\">0.909794</td><td style = \"text-align: right;\">0.447895</td><td style = \"text-align: right;\">0.328349</td><td style = \"text-align: right;\">-1.24401</td><td style = \"text-align: right;\">0.277462</td><td style = \"text-align: right;\">1.70936</td><td style = \"text-align: right;\">0.00130938</td><td style = \"text-align: right;\">0.0768767</td></tr><tr><td class = \"rowNumber\" style = \"font-weight: bold; text-align: right;\">7</td><td style = \"text-align: right;\">0.601674</td><td style = \"text-align: right;\">0.510834</td><td style = \"text-align: right;\">0.232825</td><td style = \"text-align: right;\">-1.24842</td><td style = \"text-align: right;\">0.0977821</td><td style = \"text-align: right;\">1.58007</td><td style = \"text-align: right;\">-0.0364638</td><td style = \"text-align: right;\">0.258464</td></tr><tr><td class = \"rowNumber\" style = \"font-weight: bold; text-align: right;\">8</td><td style = \"text-align: right;\">-0.334787</td><td style = \"text-align: right;\">0.449855</td><td style = \"text-align: right;\">1.07021</td><td style = \"text-align: right;\">-1.18643</td><td style = \"text-align: right;\">-1.31815</td><td style = \"text-align: right;\">1.27463</td><td style = \"text-align: right;\">0.00789964</td><td style = \"text-align: right;\">-0.0553192</td></tr><tr><td class = \"rowNumber\" style = \"font-weight: bold; text-align: right;\">9</td><td style = \"text-align: right;\">-0.67344</td><td style = \"text-align: right;\">-1.20894</td><td style = \"text-align: right;\">0.498816</td><td style = \"text-align: right;\">-1.1318</td><td style = \"text-align: right;\">-1.29056</td><td style = \"text-align: right;\">0.326316</td><td style = \"text-align: right;\">-1.31916</td><td style = \"text-align: right;\">-0.511818</td></tr><tr><td class = \"rowNumber\" style = \"font-weight: bold; text-align: right;\">10</td><td style = \"text-align: right;\">1.57436</td><td style = \"text-align: right;\">-0.486784</td><td style = \"text-align: right;\">1.04522</td><td style = \"text-align: right;\">-1.1665</td><td style = \"text-align: right;\">0.318224</td><td style = \"text-align: right;\">1.76616</td><td style = \"text-align: right;\">-0.28608</td><td style = \"text-align: right;\">-1.02674</td></tr></tbody></table></div>"
      ],
      "text/latex": [
       "\\begin{tabular}{r|cccccccc}\n",
       "\t& x1 & x2 & x3 & x4 & x1\\_1 & x2\\_1 & x3\\_1 & x4\\_1\\\\\n",
       "\t\\hline\n",
       "\t& Float64 & Float64 & Float64 & Float64 & Float64 & Float64 & Float64 & Float64\\\\\n",
       "\t\\hline\n",
       "\t1 & 0.0797428 & 0.433233 & 0.696339 & -1.21189 & -0.64552 & 1.40289 & -0.0284468 & 0.111773 \\\\\n",
       "\t2 & -0.566905 & -0.851057 & 0.177854 & -1.1688 & -0.832404 & 0.475629 & -1.14881 & -0.01702 \\\\\n",
       "\t3 & 2.99223 & -1.91236 & 1.30034 & -1.10032 & 1.54491 & 1.65258 & -1.35967 & -2.57866 \\\\\n",
       "\t4 & 0.955637 & -1.70299 & -0.49905 & -1.18435 & 1.32065 & 0.563565 & -2.05839 & -0.74898 \\\\\n",
       "\t5 & 1.6647 & -0.881889 & 0.180796 & -1.19634 & 1.1223 & 1.45555 & -0.88864 & -0.776195 \\\\\n",
       "\t6 & 0.909794 & 0.447895 & 0.328349 & -1.24401 & 0.277462 & 1.70936 & 0.00130938 & 0.0768767 \\\\\n",
       "\t7 & 0.601674 & 0.510834 & 0.232825 & -1.24842 & 0.0977821 & 1.58007 & -0.0364638 & 0.258464 \\\\\n",
       "\t8 & -0.334787 & 0.449855 & 1.07021 & -1.18643 & -1.31815 & 1.27463 & 0.00789964 & -0.0553192 \\\\\n",
       "\t9 & -0.67344 & -1.20894 & 0.498816 & -1.1318 & -1.29056 & 0.326316 & -1.31916 & -0.511818 \\\\\n",
       "\t10 & 1.57436 & -0.486784 & 1.04522 & -1.1665 & 0.318224 & 1.76616 & -0.28608 & -1.02674 \\\\\n",
       "\\end{tabular}\n"
      ],
      "text/plain": [
       "\u001b[1m10×8 DataFrame\u001b[0m\n",
       "\u001b[1m Row \u001b[0m│\u001b[1m x1         \u001b[0m\u001b[1m x2        \u001b[0m\u001b[1m x3        \u001b[0m\u001b[1m x4       \u001b[0m\u001b[1m x1_1       \u001b[0m\u001b[1m x2_1     \u001b[0m\u001b[1m x3_1 \u001b[0m ⋯\n",
       "     │\u001b[90m Float64    \u001b[0m\u001b[90m Float64   \u001b[0m\u001b[90m Float64   \u001b[0m\u001b[90m Float64  \u001b[0m\u001b[90m Float64    \u001b[0m\u001b[90m Float64  \u001b[0m\u001b[90m Float\u001b[0m ⋯\n",
       "─────┼──────────────────────────────────────────────────────────────────────────\n",
       "   1 │  0.0797428   0.433233   0.696339  -1.21189  -0.64552    1.40289   -0.02 ⋯\n",
       "   2 │ -0.566905   -0.851057   0.177854  -1.1688   -0.832404   0.475629  -1.14\n",
       "   3 │  2.99223    -1.91236    1.30034   -1.10032   1.54491    1.65258   -1.35\n",
       "   4 │  0.955637   -1.70299   -0.49905   -1.18435   1.32065    0.563565  -2.05\n",
       "   5 │  1.6647     -0.881889   0.180796  -1.19634   1.1223     1.45555   -0.88 ⋯\n",
       "   6 │  0.909794    0.447895   0.328349  -1.24401   0.277462   1.70936    0.00\n",
       "   7 │  0.601674    0.510834   0.232825  -1.24842   0.0977821  1.58007   -0.03\n",
       "   8 │ -0.334787    0.449855   1.07021   -1.18643  -1.31815    1.27463    0.00\n",
       "   9 │ -0.67344    -1.20894    0.498816  -1.1318   -1.29056    0.326316  -1.31 ⋯\n",
       "  10 │  1.57436    -0.486784   1.04522   -1.1665    0.318224   1.76616   -0.28\n",
       "\u001b[36m                                                               2 columns omitted\u001b[0m"
      ]
     },
     "execution_count": 28,
     "metadata": {},
     "output_type": "execute_result"
    }
   ],
   "source": [
    "ppt = (numf |> rb |> ica) + (numf |> pt |> pca)\n",
    "tr = fit_transform!(ppt,X,Y)\n",
    "head(tr)"
   ]
  },
  {
   "cell_type": "markdown",
   "id": "c6499dfa-f12c-4733-9f82-12e2332f3798",
   "metadata": {
    "editable": true,
    "slideshow": {
     "slide_type": "subslide"
    },
    "tags": []
   },
   "source": [
    "### Evaluating complex pipeline with RandomForest learner"
   ]
  },
  {
   "cell_type": "code",
   "execution_count": 29,
   "id": "0bd09a14-8533-4bb3-bc02-7cd98ab90c26",
   "metadata": {
    "editable": false,
    "slideshow": {
     "slide_type": "fragment"
    },
    "tags": []
   },
   "outputs": [
    {
     "name": "stdout",
     "output_type": "stream",
     "text": [
      "fold: 1, 0.6716417910447762\n",
      "fold: 2, 0.6567164179104478\n",
      "fold: 3, 0.75\n",
      "fold: 4, 0.6865671641791045\n",
      "fold: 5, 0.6716417910447762\n",
      "fold: 6, 0.5970149253731343\n",
      "fold: 7, 0.5970149253731343\n",
      "fold: 8, 0.7205882352941176\n",
      "fold: 9, 0.6865671641791045\n",
      "fold: 10, 0.6119402985074627\n",
      "errors: 0\n"
     ]
    },
    {
     "data": {
      "text/plain": [
       "(mean = 0.6649692712906058, std = 0.05105709742517328, folds = 10, errors = 0)"
      ]
     },
     "execution_count": 29,
     "metadata": {},
     "output_type": "execute_result"
    }
   ],
   "source": [
    "prf = (catf |> ohe) + (numf |> rb |> fa) + (numf |> pt |> pca) |> rf\n",
    "crossvalidate(prf,X,Y,\"accuracy_score\")"
   ]
  },
  {
   "cell_type": "markdown",
   "id": "dfaf1449-99a3-4cda-8164-7d250ed9b1f2",
   "metadata": {
    "editable": true,
    "slideshow": {
     "slide_type": "subslide"
    },
    "tags": []
   },
   "source": [
    "### Evaluating complex pipeline with Linear SVM learner"
   ]
  },
  {
   "cell_type": "code",
   "execution_count": 30,
   "id": "a50c731a-13e6-4be9-8c1f-ce94941abc16",
   "metadata": {
    "editable": false,
    "slideshow": {
     "slide_type": "fragment"
    },
    "tags": []
   },
   "outputs": [
    {
     "name": "stdout",
     "output_type": "stream",
     "text": [
      "fold: 1, 0.746268656716418\n",
      "fold: 2, 0.7313432835820896\n",
      "fold: 3, 0.7647058823529411\n",
      "fold: 4, 0.7611940298507462\n",
      "fold: 5, 0.7761194029850746\n",
      "fold: 6, 0.6567164179104478\n",
      "fold: 7, 0.746268656716418\n",
      "fold: 8, 0.7941176470588235\n",
      "fold: 9, 0.7164179104477612\n",
      "fold: 10, 0.7164179104477612\n",
      "errors: 0\n"
     ]
    },
    {
     "data": {
      "text/plain": [
       "(mean = 0.740956979806848, std = 0.03870925271242532, folds = 10, errors = 0)"
      ]
     },
     "execution_count": 30,
     "metadata": {},
     "output_type": "execute_result"
    }
   ],
   "source": [
    "plsvc = ((numf |> rb |> pca)+(numf |> rb |> fa)+(numf |> rb |> ica)+(catf |> ohe )) |> lsvc\n",
    "crossvalidate(plsvc,X,Y,\"accuracy_score\")"
   ]
  },
  {
   "cell_type": "markdown",
   "id": "91dccdf1-2c80-4d58-b5bb-d1be192afa0d",
   "metadata": {
    "editable": true,
    "slideshow": {
     "slide_type": "subslide"
    },
    "tags": []
   },
   "source": [
    "### Parallel search of the best ML pipeline"
   ]
  },
  {
   "cell_type": "code",
   "execution_count": 31,
   "id": "0805adc4-c1a6-4194-b812-4d10cec9f933",
   "metadata": {
    "editable": false,
    "slideshow": {
     "slide_type": "fragment"
    },
    "tags": []
   },
   "outputs": [
    {
     "name": "stdout",
     "output_type": "stream",
     "text": [
      "      From worker 4:\tAdaBoostClassifier\n",
      "      From worker 5:\tSGDClassifier\n",
      "      From worker 3:\trf\n",
      "      From worker 7:\tprunetree\n",
      "      From worker 6:\tLinearSVC\n",
      "      From worker 5:\t\u001b[33m\u001b[1m┌ \u001b[22m\u001b[39m\u001b[33m\u001b[1mWarning: \u001b[22m\u001b[39mUnseen value found in OneHotEncoder,\n",
      "      From worker 5:\t\u001b[33m\u001b[1m│ \u001b[22m\u001b[39m               for entry (13, 2) = SF.\n",
      "      From worker 5:\t\u001b[33m\u001b[1m│ \u001b[22m\u001b[39m               Patching value to PIT.\n",
      "      From worker 5:\t\u001b[33m\u001b[1m└ \u001b[22m\u001b[39m\u001b[90m@ AMLPipelineBase.BaseFilters ~/.julia/packages/AMLPipelineBase/FFCPY/src/basefilters.jl:106\u001b[39m\n",
      "      From worker 5:\t\u001b[33m\u001b[1m┌ \u001b[22m\u001b[39m\u001b[33m\u001b[1mWarning: \u001b[22m\u001b[39mUnseen value found in OneHotEncoder,\n",
      "      From worker 5:\t\u001b[33m\u001b[1m│ \u001b[22m\u001b[39m               for entry (65, 2) = SF.\n",
      "      From worker 5:\t\u001b[33m\u001b[1m│ \u001b[22m\u001b[39m               Patching value to PIT.\n",
      "      From worker 5:\t\u001b[33m\u001b[1m└ \u001b[22m\u001b[39m\u001b[90m@ AMLPipelineBase.BaseFilters ~/.julia/packages/AMLPipelineBase/FFCPY/src/basefilters.jl:106\u001b[39m\n",
      "      From worker 5:\t\u001b[33m\u001b[1m┌ \u001b[22m\u001b[39m\u001b[33m\u001b[1mWarning: \u001b[22m\u001b[39mUnseen value found in OneHotEncoder,\n",
      "      From worker 5:\t\u001b[33m\u001b[1m│ \u001b[22m\u001b[39m               for entry (161, 2) = SF.\n",
      "      From worker 5:\t\u001b[33m\u001b[1m│ \u001b[22m\u001b[39m               Patching value to PIT.\n",
      "      From worker 5:\t\u001b[33m\u001b[1m└ \u001b[22m\u001b[39m\u001b[90m@ AMLPipelineBase.BaseFilters ~/.julia/packages/AMLPipelineBase/FFCPY/src/basefilters.jl:106\u001b[39m\n",
      "      From worker 5:\t\u001b[33m\u001b[1m┌ \u001b[22m\u001b[39m\u001b[33m\u001b[1mWarning: \u001b[22m\u001b[39mUnseen value found in OneHotEncoder,\n",
      "      From worker 5:\t\u001b[33m\u001b[1m│ \u001b[22m\u001b[39m               for entry (196, 2) = SF.\n",
      "      From worker 5:\t\u001b[33m\u001b[1m│ \u001b[22m\u001b[39m               Patching value to PIT.\n",
      "      From worker 5:\t\u001b[33m\u001b[1m└ \u001b[22m\u001b[39m\u001b[90m@ AMLPipelineBase.BaseFilters ~/.julia/packages/AMLPipelineBase/FFCPY/src/basefilters.jl:106\u001b[39m\n",
      "      From worker 7:\tfold: 1, 0.6071428571428571\n",
      "      From worker 3:\tfold: 1, 0.7008928571428571\n",
      "      From worker 6:\tfold: 1, 0.7232142857142857\n",
      "      From worker 5:\tfold: 1, 0.6741071428571429\n",
      "      From worker 7:\tfold: 2, 0.6116071428571429\n",
      "      From worker 3:\tfold: 2, 0.6294642857142857\n",
      "      From worker 6:\t\u001b[33m\u001b[1m┌ \u001b[22m\u001b[39m\u001b[33m\u001b[1mWarning: \u001b[22m\u001b[39mUnseen value found in OneHotEncoder,\n",
      "      From worker 6:\t\u001b[33m\u001b[1m│ \u001b[22m\u001b[39m               for entry (16, 2) = SF.\n",
      "      From worker 6:\t\u001b[33m\u001b[1m│ \u001b[22m\u001b[39m               Patching value to MIA.\n",
      "      From worker 6:\t\u001b[33m\u001b[1m└ \u001b[22m\u001b[39m\u001b[90m@ AMLPipelineBase.BaseFilters ~/.julia/packages/AMLPipelineBase/FFCPY/src/basefilters.jl:106\u001b[39m\n",
      "      From worker 6:\t\u001b[33m\u001b[1m┌ \u001b[22m\u001b[39m\u001b[33m\u001b[1mWarning: \u001b[22m\u001b[39mUnseen value found in OneHotEncoder,\n",
      "      From worker 6:\t\u001b[33m\u001b[1m│ \u001b[22m\u001b[39m               for entry (71, 2) = SF.\n",
      "      From worker 6:\t\u001b[33m\u001b[1m│ \u001b[22m\u001b[39m               Patching value to MIA.\n",
      "      From worker 6:\t\u001b[33m\u001b[1m└ \u001b[22m\u001b[39m\u001b[90m@ AMLPipelineBase.BaseFilters ~/.julia/packages/AMLPipelineBase/FFCPY/src/basefilters.jl:106\u001b[39m\n",
      "      From worker 6:\t\u001b[33m\u001b[1m┌ \u001b[22m\u001b[39m\u001b[33m\u001b[1mWarning: \u001b[22m\u001b[39mUnseen value found in OneHotEncoder,\n",
      "      From worker 6:\t\u001b[33m\u001b[1m│ \u001b[22m\u001b[39m               for entry (154, 2) = SF.\n",
      "      From worker 6:\t\u001b[33m\u001b[1m│ \u001b[22m\u001b[39m               Patching value to MIA.\n",
      "      From worker 6:\t\u001b[33m\u001b[1m└ \u001b[22m\u001b[39m\u001b[90m@ AMLPipelineBase.BaseFilters ~/.julia/packages/AMLPipelineBase/FFCPY/src/basefilters.jl:106\u001b[39m\n",
      "      From worker 6:\t\u001b[33m\u001b[1m┌ \u001b[22m\u001b[39m\u001b[33m\u001b[1mWarning: \u001b[22m\u001b[39mUnseen value found in OneHotEncoder,\n",
      "      From worker 6:\t\u001b[33m\u001b[1m│ \u001b[22m\u001b[39m               for entry (199, 2) = SF.\n",
      "      From worker 6:\t\u001b[33m\u001b[1m│ \u001b[22m\u001b[39m               Patching value to MIA.\n",
      "      From worker 6:\t\u001b[33m\u001b[1m└ \u001b[22m\u001b[39m\u001b[90m@ AMLPipelineBase.BaseFilters ~/.julia/packages/AMLPipelineBase/FFCPY/src/basefilters.jl:106\u001b[39m\n",
      "      From worker 4:\tfold: 1, 0.6830357142857143\n",
      "      From worker 5:\tfold: 2, 0.7276785714285714\n",
      "      From worker 7:\tfold: 3, 0.5357142857142857\n",
      "      From worker 7:\terrors: 0\n",
      "      From worker 6:\tfold: 2, 0.7098214285714286\n",
      "      From worker 3:\tfold: 3, 0.6383928571428571\n",
      "      From worker 3:\terrors: 0\n",
      "      From worker 5:\tfold: 3, 0.7098214285714286\n",
      "      From worker 5:\terrors: 0\n",
      "      From worker 6:\tfold: 3, 0.7321428571428571\n",
      "      From worker 6:\terrors: 0\n",
      "      From worker 4:\tfold: 2, 0.6651785714285714\n",
      "      From worker 4:\tfold: 3, 0.6428571428571429\n",
      "      From worker 4:\terrors: 0\n"
     ]
    }
   ],
   "source": [
    "using Random, DataFrames, Distributed\n",
    "nprocs() == 1 && addprocs()\n",
    "@everywhere using DataFrames; @everywhere using AutoMLPipeline\n",
    "@everywhere begin\n",
    "    import PythonCall; const PYC=PythonCall; warnings = PYC.pyimport(\"warnings\"); warnings.filterwarnings(\"ignore\")\n",
    "end\n",
    "@everywhere begin\n",
    "  profbdata = getprofb(); X = profbdata[:,2:end]; Y = profbdata[:,1] |> Vector;\n",
    "end\n",
    "@everywhere begin\n",
    "  jrf  = RandomForest(); ohe  = OneHotEncoder(); catf = CatFeatureSelector(); numf = NumFeatureSelector()\n",
    "  tree = PrunedTree(); ada  = skoperator(\"AdaBoostClassifier\"); disc = CatNumDiscriminator()\n",
    "  sgd  = skoperator(\"SGDClassifier\"); std  = skoperator(\"StandardScaler\"); lsvc = skoperator(\"LinearSVC\")\n",
    "end\n",
    "\n",
    "learners = @sync @distributed (vcat) for learner in [jrf,ada,sgd,lsvc,tree]\n",
    "   pcmc = disc |> ((catf |> ohe) + (numf |> std)) |> learner\n",
    "   println(learner.name[1:end-4])\n",
    "   mean,sd,_ = crossvalidate(pcmc,X,Y,\"accuracy_score\",3)\n",
    "   DataFrame(name=learner.name[1:end-4],mean=mean,sd=sd)\n",
    "end;"
   ]
  },
  {
   "cell_type": "markdown",
   "id": "9fd6df9a-3026-4b8a-bd8c-886ed6c24e51",
   "metadata": {
    "editable": true,
    "slideshow": {
     "slide_type": "subslide"
    },
    "tags": []
   },
   "source": [
    "### Best Pipeline"
   ]
  },
  {
   "cell_type": "code",
   "execution_count": 32,
   "id": "a73ea299-4640-4284-9a38-3239a596f255",
   "metadata": {
    "editable": false,
    "slideshow": {
     "slide_type": "fragment"
    },
    "tags": []
   },
   "outputs": [
    {
     "name": "stdout",
     "output_type": "stream",
     "text": [
      "sort!(learners, :mean, rev = true) = 5×3 DataFrame\n",
      " Row │ name                mean      sd\n",
      "     │ String              Float64   Float64\n",
      "─────┼─────────────────────────────────────────\n",
      "   1 │ LinearSVC           0.721726  0.0112349\n",
      "   2 │ SGDClassifier       0.703869  0.0272772\n",
      "   3 │ AdaBoostClassifier  0.66369   0.0201306\n",
      "   4 │ rf                  0.65625   0.0389187\n",
      "   5 │ prunetree           0.584821  0.0425866\n"
     ]
    }
   ],
   "source": [
    "@show sort!(learners,:mean,rev=true);"
   ]
  },
  {
   "cell_type": "markdown",
   "id": "31f35340-5bb7-4b2d-a3c9-25c1fcb525c8",
   "metadata": {
    "editable": true,
    "slideshow": {
     "slide_type": "slide"
    },
    "tags": []
   },
   "source": [
    "# E2EAI Application"
   ]
  },
  {
   "cell_type": "markdown",
   "id": "2c268a64-4a11-466b-acfe-0ce2b72f8912",
   "metadata": {
    "editable": false,
    "slideshow": {
     "slide_type": "subslide"
    },
    "tags": []
   },
   "source": [
    "## Infrastructure Creation Automation\n",
    "\n",
    "<center><img src=\"./k0s.png\" width=\"500\"/></center>\n",
    "\n",
    "<center><img src=\"./cluster.png\" width=\"800\"/></center>"
   ]
  },
  {
   "cell_type": "markdown",
   "id": "8b0fbe2f-559b-4b8f-9004-f787a55118bc",
   "metadata": {
    "editable": false,
    "slideshow": {
     "slide_type": "subslide"
    },
    "tags": []
   },
   "source": [
    "## AI as a Service: Zero Coding Using Workflow Template\n",
    "<center><img src=\"./template.png\" width=\"1000\"/></center>"
   ]
  },
  {
   "cell_type": "markdown",
   "id": "59c75256-ee7f-45af-b32f-1ddafc730760",
   "metadata": {
    "editable": false,
    "slideshow": {
     "slide_type": "subslide"
    },
    "tags": []
   },
   "source": [
    "## Explicit ML Pipeline\n",
    "\n",
    "<center><img src=\"./mlpipeline.png\" width=\"600\"/></center>"
   ]
  },
  {
   "cell_type": "markdown",
   "id": "c15ccdde-17be-4768-b475-b8f6ca2e866b",
   "metadata": {
    "editable": false,
    "slideshow": {
     "slide_type": "slide"
    },
    "tags": []
   },
   "source": [
    "## Optimal Pipeline Discovery by AutoML\n",
    "<center><img src=\"./lowcode.png\" width=\"500\"/></center>"
   ]
  },
  {
   "cell_type": "markdown",
   "id": "7f86ede7-1b71-431b-8950-5889fc6161c7",
   "metadata": {
    "editable": false,
    "slideshow": {
     "slide_type": "subslide"
    },
    "tags": []
   },
   "source": [
    "## Low vs High Pipeline Complexity\n",
    "<center><img src=\"./low-high-comp.png\" width=\"300\"/></center>"
   ]
  },
  {
   "cell_type": "markdown",
   "id": "5f13877c-f6d0-4e51-a10d-fa426719f547",
   "metadata": {
    "editable": false,
    "slideshow": {
     "slide_type": "subslide"
    },
    "tags": []
   },
   "source": [
    "### Low Complexity Pipeline\n",
    "<center><img src=\"./low-comp.png\" width=\"500\"/></center>"
   ]
  },
  {
   "cell_type": "markdown",
   "id": "8ca56903-1c1e-4213-9fab-a3842374eaa0",
   "metadata": {
    "editable": false,
    "slideshow": {
     "slide_type": "subslide"
    },
    "tags": []
   },
   "source": [
    "### High Complexity Pipeline \n",
    "<center><img src=\"./high-comp.png\" width=\"500\"/></center>"
   ]
  },
  {
   "cell_type": "markdown",
   "id": "0728bed8-233b-41ef-9a8f-bcaae5014d34",
   "metadata": {
    "editable": true,
    "slideshow": {
     "slide_type": "slide"
    },
    "tags": []
   },
   "source": [
    "# The Future\n",
    "\n",
    "<center> \n",
    "    <img  src=\"./e2eai-sphere.png\" width=\"500\"/> \n",
    "    <img  src=\"./flowchart.png\" width=\"500\"/> \n",
    "</center>\n",
    "\n",
    "\n",
    "- ### Unified Control Plane\n",
    "- ### Intent-Driven E2EAI"
   ]
  },
  {
   "cell_type": "markdown",
   "id": "ca04d309-bd14-4c4d-b4eb-521137c67462",
   "metadata": {
    "editable": true,
    "slideshow": {
     "slide_type": "slide"
    },
    "tags": []
   },
   "source": [
    "# Acknowledgement\n",
    "\n",
    "<center> <img  src=\"./eu-funding.png\" width=\"300\"/> </center>\n",
    "\n",
    "\n",
    "#### This work has been funded by the SUNRISE-6G project, Grant number 101139257, co-funded by the European Union and Smart Networks and Services Joint Undertaking (SNS JU).\n",
    "\n",
    "### DISCLAIMER\n",
    "\n",
    "##### \"Funded by the European Union. Views and opinions expressed are however those of the author(s) only and do not necessarily reflect those of the European Union and Smart Networks and Services Joint Undertaking (SNS JU). Neither the European Union nor the granting authority can be held responsible for them.\"\n",
    "\n",
    "<br>\n",
    "<br>\n",
    "<br>\n",
    "\n",
    "\n",
    "<center>\n",
    "     <font size=\"+5\">THANK YOU!</font>\n",
    "</center>"
   ]
  }
 ],
 "metadata": {
  "kernelspec": {
   "display_name": "Julia 1.10.3",
   "language": "julia",
   "name": "julia-1.10"
  },
  "language_info": {
   "file_extension": ".jl",
   "mimetype": "application/julia",
   "name": "julia",
   "version": "1.10.3"
  }
 },
 "nbformat": 4,
 "nbformat_minor": 5
}
