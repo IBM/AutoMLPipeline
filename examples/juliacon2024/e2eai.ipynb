{
 "cells": [
  {
   "cell_type": "markdown",
   "id": "55c470ee-5ae5-40cd-be54-2f2543611759",
   "metadata": {
    "editable": false,
    "slideshow": {
     "slide_type": "slide"
    },
    "tags": []
   },
   "source": [
    "# JuliaCon 2024\n",
    "</br>\n",
    "\n",
    "## End-to-End AI (E2EAI) with Julia, K0s, and Argo Workflow\n",
    "</br>\n",
    "\n",
    "##### Presentor: Paulito Palmes, IBM Research\n",
    "#####      Date: July 11, 2024 "
   ]
  },
  {
   "attachments": {},
   "cell_type": "markdown",
   "id": "562a4d68-e257-41ef-98aa-2526f3d0660b",
   "metadata": {
    "editable": false,
    "slideshow": {
     "slide_type": "slide"
    },
    "tags": []
   },
   "source": [
    "# OUTLINE\n",
    "\n",
    "- ### The Motivations Behind E2EAI (End-to-End AI)\n",
    "- ### Components of E2EAI\n",
    "- ### The Julia AI/ML Solution Use-case\n",
    "- ### The Future"
   ]
  },
  {
   "cell_type": "markdown",
   "id": "f460e6bb-fdaf-4b89-a75c-766ca76c23c6",
   "metadata": {
    "editable": false,
    "slideshow": {
     "slide_type": "slide"
    },
    "tags": []
   },
   "source": [
    "# The Motivations Behind E2EAI\n",
    "\n",
    "- current paradigm does not exloit tightly integration of IaC and MLOPs in deploying AI solutions\n",
    "- issues with no tight integration of IaC and MLOPs in deploying AI solutions\n",
    "  - difficult to identify optimal infrastructure \n",
    "  - difficult to predict resource viability and feasibility\n",
    "  - difficult to infer the cost \n",
    "  - difficult to identify performance bottlenecks and root-cause analysis"
   ]
  },
  {
   "cell_type": "markdown",
   "id": "bea81b9c-d730-4ca9-a227-efdb118127de",
   "metadata": {
    "editable": false,
    "slideshow": {
     "slide_type": "slide"
    },
    "tags": []
   },
   "source": [
    "# End-to-End AI (E2EAI)\n",
    "<center><img  src=\"./yamlcontents.png\" width=\"600\"/></center>\n",
    "\n",
    "- E2EAI is a unified framework tightly integrating MLOps and IaC \n",
    "  - single yaml file: Infrastructure + ML Pipeline + LifeCycle Management\n",
    "  - single yaml file to describe both the IaC and MLOPs\n",
    "  - yaml workflow templates imply zero to minimal coding\n",
    "  - collection of yamls become inputs to LLM for intent-driven E2EAI"
   ]
  },
  {
   "attachments": {},
   "cell_type": "markdown",
   "id": "e5f82f8b-c900-4a4b-83db-d50de3b569bc",
   "metadata": {
    "editable": false,
    "slideshow": {
     "slide_type": "slide"
    },
    "tags": []
   },
   "source": [
    "# Components of E2EAI\n",
    "<center><img  src=\"./e2eai-components.png\" width=\"700\"/></center>\n",
    "\n",
    "- SUNRISE-6G\n",
    "  - SUstainable federatioN of Research Infrastructures \\\n",
    "    for Scaling-up Experimentation in 6G\n",
    "  - H2020 EU Project (3 years)"
   ]
  },
  {
   "cell_type": "markdown",
   "id": "0dae6487-c6a3-4015-9051-a1b5c806f8af",
   "metadata": {
    "editable": true,
    "slideshow": {
     "slide_type": "slide"
    },
    "tags": []
   },
   "source": [
    "# The Julia AI/ML Solution Use-case\n",
    "\n",
    "- AutoMLPipeline workflow\n",
    "- Integrating AutoMLPipeline in E2EAI"
   ]
  },
  {
   "cell_type": "markdown",
   "id": "e8511558-3b93-4c19-b891-29245f6443f0",
   "metadata": {
    "editable": true,
    "slideshow": {
     "slide_type": "subslide"
    },
    "tags": []
   },
   "source": [
    "### Load ML pipeline preprocessing components and models"
   ]
  },
  {
   "cell_type": "code",
   "execution_count": null,
   "id": "2c8b74b9-4b30-42b4-b3ee-163c1a019c4a",
   "metadata": {
    "editable": false,
    "slideshow": {
     "slide_type": "fragment"
    },
    "tags": []
   },
   "outputs": [],
   "source": [
    "using AutoMLPipeline;\n",
    "import PythonCall; const PYC=PythonCall; warnings = PYC.pyimport(\"warnings\"); warnings.filterwarnings(\"ignore\")\n",
    "\n",
    "#### Decomposition\n",
    "pca = skoperator(\"PCA\"); fa  = skoperator(\"FactorAnalysis\"); ica = skoperator(\"FastICA\")\n",
    "#### Scaler \n",
    "rb   = skoperator(\"RobustScaler\"); pt   = skoperator(\"PowerTransformer\"); norm = skoperator(\"Normalizer\")\n",
    "mx   = skoperator(\"MinMaxScaler\"); std  = skoperator(\"StandardScaler\")\n",
    "#### categorical preprocessing\n",
    "ohe = OneHotEncoder()\n",
    "#### Column selector\n",
    "catf = CatFeatureSelector(); numf = NumFeatureSelector(); disc = CatNumDiscriminator()\n",
    "#### Learners\n",
    "rf = skoperator(\"RandomForestClassifier\"); gb = skoperator(\"GradientBoostingClassifier\"); lsvc = skoperator(\"LinearSVC\")\n",
    "svc = skoperator(\"SVC\"); mlp = skoperator(\"MLPClassifier\")\n",
    "ada = skoperator(\"AdaBoostClassifier\"); sgd = skoperator(\"SGDClassifier\")\n",
    "skrf_reg = skoperator(\"RandomForestRegressor\"); skgb_reg = skoperator(\"GradientBoostingRegressor\")\n",
    "jrf = RandomForest(); tree = PrunedTree()\n",
    "vote = VoteEnsemble(); stack = StackEnsemble(); best = BestLearner();"
   ]
  },
  {
   "cell_type": "markdown",
   "id": "b1a5e34c-a81b-4c3d-967c-08e163316013",
   "metadata": {
    "editable": true,
    "slideshow": {
     "slide_type": "subslide"
    },
    "tags": []
   },
   "source": [
    "### Prepare dataset for classification"
   ]
  },
  {
   "cell_type": "code",
   "execution_count": null,
   "id": "23e4e1bc-7d31-4081-84f6-9a607abf16a6",
   "metadata": {
    "editable": false,
    "slideshow": {
     "slide_type": "fragment"
    },
    "tags": []
   },
   "outputs": [],
   "source": [
    "# Make sure that the input feature is a dataframe and the target output is a 1-D vector.\n",
    "using AutoMLPipeline\n",
    "profbdata = getprofb()\n",
    "X = profbdata[:,2:end] \n",
    "Y = profbdata[:,1] |> Vector;\n",
    "head(x)=first(x,10)\n",
    "head(profbdata)"
   ]
  },
  {
   "cell_type": "markdown",
   "id": "39821243-a693-4270-a52e-c3d60fe21d1c",
   "metadata": {
    "editable": true,
    "slideshow": {
     "slide_type": "subslide"
    },
    "tags": []
   },
   "source": [
    "### Pipeline to transform non-numeric features to one-hot encoding"
   ]
  },
  {
   "cell_type": "code",
   "execution_count": null,
   "id": "e1e00eff-8c82-4307-9d84-566249b988df",
   "metadata": {
    "editable": false,
    "slideshow": {
     "slide_type": "fragment"
    },
    "tags": []
   },
   "outputs": [],
   "source": [
    "pohe = catf |> ohe\n",
    "tr = fit_transform!(pohe,X,Y)\n",
    "head(tr)"
   ]
  },
  {
   "cell_type": "markdown",
   "id": "bb600172-02b8-4cc7-b569-f764c08b3121",
   "metadata": {
    "editable": true,
    "slideshow": {
     "slide_type": "subslide"
    },
    "tags": []
   },
   "source": [
    "### Sample pipeline to transform numerical features to pca and ica and concatenate them"
   ]
  },
  {
   "cell_type": "code",
   "execution_count": null,
   "id": "232fa3e8-c427-4960-8349-7de83ae0b663",
   "metadata": {
    "editable": false,
    "slideshow": {
     "slide_type": "fragment"
    },
    "tags": []
   },
   "outputs": [],
   "source": [
    "pdec = (numf |> pca) + (numf |> ica)\n",
    "tr = fit_transform!(pdec,X,Y)\n",
    "head(tr)"
   ]
  },
  {
   "cell_type": "markdown",
   "id": "06edc5b2-1f16-4d01-8ac9-cda737cbad19",
   "metadata": {
    "editable": true,
    "slideshow": {
     "slide_type": "subslide"
    },
    "tags": []
   },
   "source": [
    "### Another example of more complex pipeline"
   ]
  },
  {
   "cell_type": "code",
   "execution_count": null,
   "id": "41ba7f8c-f20d-4507-b2ee-d02a0d1ca7e6",
   "metadata": {
    "editable": false,
    "slideshow": {
     "slide_type": "fragment"
    },
    "tags": []
   },
   "outputs": [],
   "source": [
    "ppt = (numf |> rb |> ica) + (numf |> pt |> pca)\n",
    "tr = fit_transform!(ppt,X,Y)\n",
    "head(tr)"
   ]
  },
  {
   "cell_type": "markdown",
   "id": "c6499dfa-f12c-4733-9f82-12e2332f3798",
   "metadata": {
    "editable": true,
    "slideshow": {
     "slide_type": "subslide"
    },
    "tags": []
   },
   "source": [
    "### Evaluating complex preprocessing pipeline together with RandomForest learner"
   ]
  },
  {
   "cell_type": "code",
   "execution_count": null,
   "id": "0bd09a14-8533-4bb3-bc02-7cd98ab90c26",
   "metadata": {
    "editable": false,
    "slideshow": {
     "slide_type": "fragment"
    },
    "tags": []
   },
   "outputs": [],
   "source": [
    "prf = (catf |> ohe) + (numf |> rb |> fa) + (numf |> pt |> pca) |> rf\n",
    "crossvalidate(prf,X,Y,\"accuracy_score\")"
   ]
  },
  {
   "cell_type": "markdown",
   "id": "dfaf1449-99a3-4cda-8164-7d250ed9b1f2",
   "metadata": {
    "editable": true,
    "slideshow": {
     "slide_type": "subslide"
    },
    "tags": []
   },
   "source": [
    "### Evaluating complex preprocessing pipeline together with Linear SVM learner"
   ]
  },
  {
   "cell_type": "code",
   "execution_count": null,
   "id": "a50c731a-13e6-4be9-8c1f-ce94941abc16",
   "metadata": {
    "editable": false,
    "slideshow": {
     "slide_type": "fragment"
    },
    "tags": []
   },
   "outputs": [],
   "source": [
    "plsvc = ((numf |> rb |> pca)+(numf |> rb |> fa)+(numf |> rb |> ica)+(catf |> ohe )) |> lsvc\n",
    "crossvalidate(plsvc,X,Y,\"accuracy_score\")"
   ]
  },
  {
   "cell_type": "markdown",
   "id": "91dccdf1-2c80-4d58-b5bb-d1be192afa0d",
   "metadata": {
    "editable": true,
    "slideshow": {
     "slide_type": "subslide"
    },
    "tags": []
   },
   "source": [
    "### Parallel search of the best ML pipeline"
   ]
  },
  {
   "cell_type": "code",
   "execution_count": null,
   "id": "0805adc4-c1a6-4194-b812-4d10cec9f933",
   "metadata": {
    "editable": false,
    "slideshow": {
     "slide_type": "fragment"
    },
    "tags": []
   },
   "outputs": [],
   "source": [
    "using Random, DataFrames, Distributed\n",
    "nprocs() == 1 && addprocs()\n",
    "@everywhere using DataFrames; @everywhere using AutoMLPipeline\n",
    "@everywhere begin\n",
    "    import PythonCall; const PYC=PythonCall; warnings = PYC.pyimport(\"warnings\"); warnings.filterwarnings(\"ignore\")\n",
    "end\n",
    "@everywhere begin\n",
    "  profbdata = getprofb(); X = profbdata[:,2:end]; Y = profbdata[:,1] |> Vector;\n",
    "end\n",
    "@everywhere begin\n",
    "  jrf  = RandomForest(); ohe  = OneHotEncoder(); catf = CatFeatureSelector(); numf = NumFeatureSelector()\n",
    "  tree = PrunedTree(); ada  = skoperator(\"AdaBoostClassifier\"); disc = CatNumDiscriminator()\n",
    "  sgd  = skoperator(\"SGDClassifier\"); std  = skoperator(\"StandardScaler\"); lsvc = skoperator(\"LinearSVC\")\n",
    "end\n",
    "\n",
    "learners = @sync @distributed (vcat) for learner in [jrf,ada,sgd,lsvc,tree]\n",
    "   pcmc = disc |> ((catf |> ohe) + (numf |> std)) |> learner\n",
    "   println(learner.name[1:end-4])\n",
    "   mean,sd,_ = crossvalidate(pcmc,X,Y,\"accuracy_score\",3)\n",
    "   DataFrame(name=learner.name[1:end-4],mean=mean,sd=sd)\n",
    "end;"
   ]
  },
  {
   "cell_type": "markdown",
   "id": "9fd6df9a-3026-4b8a-bd8c-886ed6c24e51",
   "metadata": {
    "editable": true,
    "slideshow": {
     "slide_type": "subslide"
    },
    "tags": []
   },
   "source": [
    "### Best Pipeline"
   ]
  },
  {
   "cell_type": "code",
   "execution_count": null,
   "id": "a73ea299-4640-4284-9a38-3239a596f255",
   "metadata": {
    "editable": false,
    "slideshow": {
     "slide_type": "fragment"
    },
    "tags": []
   },
   "outputs": [],
   "source": [
    "@show sort!(learners,:mean,rev=true);"
   ]
  },
  {
   "cell_type": "markdown",
   "id": "31f35340-5bb7-4b2d-a3c9-25c1fcb525c8",
   "metadata": {
    "editable": true,
    "slideshow": {
     "slide_type": "slide"
    },
    "tags": []
   },
   "source": [
    "# E2EAI Application"
   ]
  },
  {
   "cell_type": "markdown",
   "id": "2c268a64-4a11-466b-acfe-0ce2b72f8912",
   "metadata": {
    "editable": false,
    "slideshow": {
     "slide_type": "subslide"
    },
    "tags": []
   },
   "source": [
    "## Infrastructure Creation Automation\n",
    "\n",
    "<center><img src=\"./k0s.png\" width=\"500\"/></center>\n",
    "\n",
    "<center><img src=\"./cluster.png\" width=\"800\"/></center>"
   ]
  },
  {
   "cell_type": "markdown",
   "id": "8b0fbe2f-559b-4b8f-9004-f787a55118bc",
   "metadata": {
    "editable": false,
    "slideshow": {
     "slide_type": "subslide"
    },
    "tags": []
   },
   "source": [
    "## AI as a Service: Zero Coding Using Workflow Template\n",
    "<center><img src=\"./template.png\" width=\"1000\"/></center>"
   ]
  },
  {
   "cell_type": "markdown",
   "id": "59c75256-ee7f-45af-b32f-1ddafc730760",
   "metadata": {
    "editable": false,
    "slideshow": {
     "slide_type": "subslide"
    },
    "tags": []
   },
   "source": [
    "## Explicit ML Pipeline\n",
    "\n",
    "<center><img src=\"./mlpipeline.png\" width=\"600\"/></center>"
   ]
  },
  {
   "cell_type": "markdown",
   "id": "c15ccdde-17be-4768-b475-b8f6ca2e866b",
   "metadata": {
    "editable": false,
    "slideshow": {
     "slide_type": "slide"
    },
    "tags": []
   },
   "source": [
    "## Optimal Pipeline Discovery by AutoML\n",
    "<center><img src=\"./lowcode.png\" width=\"500\"/></center>"
   ]
  },
  {
   "cell_type": "markdown",
   "id": "7f86ede7-1b71-431b-8950-5889fc6161c7",
   "metadata": {
    "editable": false,
    "slideshow": {
     "slide_type": "subslide"
    },
    "tags": []
   },
   "source": [
    "## Low vs High Pipeline Complexity\n",
    "<center><img src=\"./low-high-comp.png\" width=\"300\"/></center>"
   ]
  },
  {
   "cell_type": "markdown",
   "id": "5f13877c-f6d0-4e51-a10d-fa426719f547",
   "metadata": {
    "editable": false,
    "slideshow": {
     "slide_type": "subslide"
    },
    "tags": []
   },
   "source": [
    "### Low Complexity Pipeline\n",
    "<center><img src=\"./low-comp.png\" width=\"500\"/></center>"
   ]
  },
  {
   "cell_type": "markdown",
   "id": "8ca56903-1c1e-4213-9fab-a3842374eaa0",
   "metadata": {
    "editable": false,
    "slideshow": {
     "slide_type": "subslide"
    },
    "tags": []
   },
   "source": [
    "### High Complexity Pipeline \n",
    "<center><img src=\"./high-comp.png\" width=\"500\"/></center>"
   ]
  }
 ],
 "metadata": {
  "kernelspec": {
   "display_name": "Julia 1.10.3",
   "language": "julia",
   "name": "julia-1.10"
  },
  "language_info": {
   "file_extension": ".jl",
   "mimetype": "application/julia",
   "name": "julia",
   "version": "1.10.3"
  }
 },
 "nbformat": 4,
 "nbformat_minor": 5
}
