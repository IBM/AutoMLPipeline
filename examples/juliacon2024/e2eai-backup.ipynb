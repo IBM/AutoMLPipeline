{
 "cells": [
  {
   "cell_type": "markdown",
   "id": "55c470ee-5ae5-40cd-be54-2f2543611759",
   "metadata": {
    "editable": false,
    "slideshow": {
     "slide_type": "slide"
    },
    "tags": []
   },
   "source": [
    "# JuliaCon 2024\n",
    "</br>\n",
    "\n",
    "## End-to-End AI (E2EAI) with Julia, K0s, and Argo Workflow\n",
    "</br>\n",
    "\n",
    "#####     Presentor: Paulito Palmes, IBM Research\n",
    "##### Collaborators: SUNRISE-6G EU Partners\n",
    "#####          Date: July 11, 2024 \n",
    "</br>\n",
    "</br>\n",
    "</br>\n",
    "</br>\n",
    "</br>\n",
    "</br>\n",
    "</br>\n",
    "</br>\n",
    "</br>\n",
    "</br>\n",
    "</br>\n",
    "\n",
    "<center> \n",
    "    <img  src=\"./eu-funding.png\" width=\"250\"/> \n",
    "    <img  src=\"./SUNRISE-6G_QR.png\" width=\"100\"/>\n",
    "    <img  src=\"./SUNRISE-6G_logo.png\" width=\"100\"/>\n",
    "</center>"
   ]
  },
  {
   "attachments": {},
   "cell_type": "markdown",
   "id": "562a4d68-e257-41ef-98aa-2526f3d0660b",
   "metadata": {
    "editable": false,
    "slideshow": {
     "slide_type": "slide"
    },
    "tags": []
   },
   "source": [
    "# OUTLINE\n",
    "\n",
    "- ### The Motivations Behind E2EAI (End-to-End AI)\n",
    "- ### Components of E2EAI\n",
    "- ### The Julia AI/ML Solution Use-case\n",
    "- ### The Future"
   ]
  },
  {
   "cell_type": "markdown",
   "id": "f460e6bb-fdaf-4b89-a75c-766ca76c23c6",
   "metadata": {
    "editable": false,
    "slideshow": {
     "slide_type": "slide"
    },
    "tags": []
   },
   "source": [
    "# The Motivations Behind E2EAI\n",
    "\n",
    "- currently, IaC and MLOPs are treated separately in deploying AI solutions\n",
    "- issues with no tight integration:\n",
    "  - difficult to identify optimal infrastructure \n",
    "  - difficult to predict resource viability and feasibility\n",
    "  - difficult to infer the cost of deployment\n",
    "  - difficult to identify performance bottlenecks and root-cause analysis"
   ]
  },
  {
   "cell_type": "markdown",
   "id": "bea81b9c-d730-4ca9-a227-efdb118127de",
   "metadata": {
    "editable": false,
    "slideshow": {
     "slide_type": "slide"
    },
    "tags": []
   },
   "source": [
    "# End-to-End AI (E2EAI)\n",
    "<center>\n",
    "    <img  src=\"./yamlcontents.png\" width=\"700\"/>\n",
    "</center>\n",
    "\n",
    "- E2EAI is a unified framework tightly integrating MLOps and IaC \n",
    "  - single yaml file: Infrastructure + ML Pipeline + LifeCycle Management\n",
    "  - reliance on yaml workflow templates imply zero to minimal coding\n",
    "  - collection of yamls can be used as inputs to LLM for intent-driven E2EAI"
   ]
  },
  {
   "attachments": {},
   "cell_type": "markdown",
   "id": "e5f82f8b-c900-4a4b-83db-d50de3b569bc",
   "metadata": {
    "editable": false,
    "slideshow": {
     "slide_type": "slide"
    },
    "tags": []
   },
   "source": [
    "# Components of E2EAI\n",
    "<center>\n",
    "    <img  src=\"./e2eai-components.png\" width=\"700\"/>\n",
    "    <img  src=\"./eu-funding.png\" width=\"200\"/>\n",
    "</center>\n",
    "\n",
    "- SUNRISE-6G\n",
    "  - SUstainable federatioN of Research Infrastructures \\\n",
    "    for Scaling-up Experimentation in 6G\n",
    "  - H2020 EU Project (3 years)"
   ]
  },
  {
   "cell_type": "markdown",
   "id": "0dae6487-c6a3-4015-9051-a1b5c806f8af",
   "metadata": {
    "editable": false,
    "slideshow": {
     "slide_type": "slide"
    },
    "tags": []
   },
   "source": [
    "# The Julia AI/ML Solution Use-case\n",
    "\n",
    "- AutoMLPipeline workflow\n",
    "- Integrating AutoMLPipeline in E2EAI"
   ]
  },
  {
   "cell_type": "markdown",
   "id": "e8511558-3b93-4c19-b891-29245f6443f0",
   "metadata": {
    "editable": false,
    "slideshow": {
     "slide_type": "subslide"
    },
    "tags": []
   },
   "source": [
    "### Load ML pipeline preprocessing components and models"
   ]
  },
  {
   "cell_type": "code",
   "execution_count": 11,
   "id": "2c8b74b9-4b30-42b4-b3ee-163c1a019c4a",
   "metadata": {
    "editable": false,
    "slideshow": {
     "slide_type": "fragment"
    },
    "tags": []
   },
   "outputs": [],
   "source": [
    "using AutoMLPipeline;\n",
    "import PythonCall; const PYC=PythonCall; warnings = PYC.pyimport(\"warnings\"); warnings.filterwarnings(\"ignore\")\n",
    "\n",
    "#### Decomposition\n",
    "pca = skoperator(\"PCA\"); fa  = skoperator(\"FactorAnalysis\"); ica = skoperator(\"FastICA\")\n",
    "#### Scaler \n",
    "rb   = skoperator(\"RobustScaler\"); pt   = skoperator(\"PowerTransformer\"); norm = skoperator(\"Normalizer\")\n",
    "mx   = skoperator(\"MinMaxScaler\"); std  = skoperator(\"StandardScaler\")\n",
    "#### categorical preprocessing\n",
    "ohe = OneHotEncoder()\n",
    "#### Column selector\n",
    "catf = CatFeatureSelector(); numf = NumFeatureSelector(); disc = CatNumDiscriminator()\n",
    "#### Learners\n",
    "rf = skoperator(\"RandomForestClassifier\"); gb = skoperator(\"GradientBoostingClassifier\"); lsvc = skoperator(\"LinearSVC\")\n",
    "svc = skoperator(\"SVC\"); mlp = skoperator(\"MLPClassifier\")\n",
    "ada = skoperator(\"AdaBoostClassifier\"); sgd = skoperator(\"SGDClassifier\")\n",
    "skrf_reg = skoperator(\"RandomForestRegressor\"); skgb_reg = skoperator(\"GradientBoostingRegressor\")\n",
    "jrf = RandomForest(); tree = PrunedTree()\n",
    "vote = VoteEnsemble(); stack = StackEnsemble(); best = BestLearner();"
   ]
  },
  {
   "cell_type": "markdown",
   "id": "b1a5e34c-a81b-4c3d-967c-08e163316013",
   "metadata": {
    "editable": false,
    "slideshow": {
     "slide_type": "subslide"
    },
    "tags": []
   },
   "source": [
    "### Prepare dataset for classification"
   ]
  },
  {
   "cell_type": "code",
   "execution_count": 27,
   "id": "23e4e1bc-7d31-4081-84f6-9a607abf16a6",
   "metadata": {
    "editable": false,
    "slideshow": {
     "slide_type": "fragment"
    },
    "tags": []
   },
   "outputs": [
    {
     "name": "stdout",
     "output_type": "stream",
     "text": [
      "\u001b[0m\u001b[1m10×7 DataFrame\u001b[0m\n",
      "\u001b[0m\u001b[1m Row \u001b[0m│\u001b[1m Home.Away \u001b[0m\u001b[1m Favorite_Points \u001b[0m\u001b[1m Underdog_Points \u001b[0m\u001b[1m Pointspread \u001b[0m\u001b[1m Favorite_Name \u001b[0m\u001b[1m Underdog_name \u001b[0m\u001b[1m Year  \u001b[0m\n",
      "\u001b[0m     │\u001b[90m String7   \u001b[0m\u001b[90m Int64           \u001b[0m\u001b[90m Int64           \u001b[0m\u001b[90m Float64     \u001b[0m\u001b[90m String3       \u001b[0m\u001b[90m String3       \u001b[0m\u001b[90m Int64 \u001b[0m\n",
      "\u001b[0m─────┼───────────────────────────────────────────────────────────────────────────────────────────────\n",
      "\u001b[0m   1 │ away                    27               24          4.0  BUF            MIA               89\n",
      "\u001b[0m   2 │ at_home                 17               14          3.0  CHI            CIN               89\n",
      "\u001b[0m   3 │ away                    51                0          2.5  CLE            PIT               89\n",
      "\u001b[0m   4 │ at_home                 28                0          5.5  NO             DAL               89\n",
      "\u001b[0m   5 │ at_home                 38                7          5.5  MIN            HOU               89\n",
      "\u001b[0m   6 │ at_home                 34               20          6.0  DEN            KC                89\n",
      "\u001b[0m   7 │ away                    31               21          6.0  LAN            ATL               89\n",
      "\u001b[0m   8 │ at_home                 24               27          2.5  NYJ            NE                89\n",
      "\u001b[0m   9 │ away                    16               13          1.5  PHX            DET               89\n",
      "\u001b[0m  10 │ at_home                 40               14          3.5  LAA            SD                89"
     ]
    }
   ],
   "source": [
    "# Make sure that the input feature is a dataframe and the target output is a 1-D vector.\n",
    "using AutoMLPipeline\n",
    "profbdata = getprofb()\n",
    "X = profbdata[:,2:end] \n",
    "Y = profbdata[:,1] |> Vector;\n",
    "head(x)=first(x,10)\n",
    "printstyled(head(profbdata))"
   ]
  },
  {
   "cell_type": "markdown",
   "id": "39821243-a693-4270-a52e-c3d60fe21d1c",
   "metadata": {
    "editable": false,
    "slideshow": {
     "slide_type": "subslide"
    },
    "tags": []
   },
   "source": [
    "### Pipeline to transform categorical features to one-hot encoding"
   ]
  },
  {
   "cell_type": "code",
   "execution_count": 28,
   "id": "e1e00eff-8c82-4307-9d84-566249b988df",
   "metadata": {
    "editable": false,
    "slideshow": {
     "slide_type": "fragment"
    },
    "tags": []
   },
   "outputs": [
    {
     "data": {
      "text/html": [
       "<div><div style = \"float: left;\"><span>10×56 DataFrame</span></div><div style = \"clear: both;\"></div></div><div class = \"data-frame\" style = \"overflow-x: scroll;\"><table class = \"data-frame\" style = \"margin-bottom: 6px;\"><thead><tr class = \"header\"><th class = \"rowNumber\" style = \"font-weight: bold; text-align: right;\">Row</th><th style = \"text-align: left;\">x1</th><th style = \"text-align: left;\">x2</th><th style = \"text-align: left;\">x3</th><th style = \"text-align: left;\">x4</th><th style = \"text-align: left;\">x5</th><th style = \"text-align: left;\">x6</th><th style = \"text-align: left;\">x7</th><th style = \"text-align: left;\">x8</th><th style = \"text-align: left;\">x9</th><th style = \"text-align: left;\">x10</th><th style = \"text-align: left;\">x11</th><th style = \"text-align: left;\">x12</th><th style = \"text-align: left;\">x13</th><th style = \"text-align: left;\">x14</th><th style = \"text-align: left;\">x15</th><th style = \"text-align: left;\">x16</th><th style = \"text-align: left;\">x17</th><th style = \"text-align: left;\">x18</th><th style = \"text-align: left;\">x19</th><th style = \"text-align: left;\">x20</th><th style = \"text-align: left;\">x21</th><th style = \"text-align: left;\">x22</th><th style = \"text-align: left;\">x23</th><th style = \"text-align: left;\">x24</th><th style = \"text-align: left;\">x25</th><th style = \"text-align: left;\">x26</th><th style = \"text-align: left;\">x27</th><th style = \"text-align: left;\">x28</th><th style = \"text-align: left;\">x29</th><th style = \"text-align: left;\">x30</th><th style = \"text-align: left;\">x31</th><th style = \"text-align: left;\">x32</th><th style = \"text-align: left;\">x33</th><th style = \"text-align: left;\">x34</th><th style = \"text-align: left;\">x35</th><th style = \"text-align: left;\">x36</th><th style = \"text-align: left;\">x37</th><th style = \"text-align: left;\">x38</th><th style = \"text-align: left;\">x39</th><th style = \"text-align: left;\">x40</th><th style = \"text-align: left;\">x41</th><th style = \"text-align: left;\">x42</th><th style = \"text-align: left;\">x43</th><th style = \"text-align: left;\">x44</th><th style = \"text-align: left;\">x45</th><th style = \"text-align: left;\">x46</th><th style = \"text-align: left;\">x47</th><th style = \"text-align: left;\">x48</th><th style = \"text-align: left;\">x49</th><th style = \"text-align: left;\">x50</th><th style = \"text-align: left;\">x51</th><th style = \"text-align: left;\">x52</th><th style = \"text-align: left;\">x53</th><th style = \"text-align: left;\">x54</th><th style = \"text-align: left;\">x55</th><th style = \"text-align: left;\">x56</th></tr><tr class = \"subheader headerLastRow\"><th class = \"rowNumber\" style = \"font-weight: bold; text-align: right;\"></th><th title = \"Float64\" style = \"text-align: left;\">Float64</th><th title = \"Float64\" style = \"text-align: left;\">Float64</th><th title = \"Float64\" style = \"text-align: left;\">Float64</th><th title = \"Float64\" style = \"text-align: left;\">Float64</th><th title = \"Float64\" style = \"text-align: left;\">Float64</th><th title = \"Float64\" style = \"text-align: left;\">Float64</th><th title = \"Float64\" style = \"text-align: left;\">Float64</th><th title = \"Float64\" style = \"text-align: left;\">Float64</th><th title = \"Float64\" style = \"text-align: left;\">Float64</th><th title = \"Float64\" style = \"text-align: left;\">Float64</th><th title = \"Float64\" style = \"text-align: left;\">Float64</th><th title = \"Float64\" style = \"text-align: left;\">Float64</th><th title = \"Float64\" style = \"text-align: left;\">Float64</th><th title = \"Float64\" style = \"text-align: left;\">Float64</th><th title = \"Float64\" style = \"text-align: left;\">Float64</th><th title = \"Float64\" style = \"text-align: left;\">Float64</th><th title = \"Float64\" style = \"text-align: left;\">Float64</th><th title = \"Float64\" style = \"text-align: left;\">Float64</th><th title = \"Float64\" style = \"text-align: left;\">Float64</th><th title = \"Float64\" style = \"text-align: left;\">Float64</th><th title = \"Float64\" style = \"text-align: left;\">Float64</th><th title = \"Float64\" style = \"text-align: left;\">Float64</th><th title = \"Float64\" style = \"text-align: left;\">Float64</th><th title = \"Float64\" style = \"text-align: left;\">Float64</th><th title = \"Float64\" style = \"text-align: left;\">Float64</th><th title = \"Float64\" style = \"text-align: left;\">Float64</th><th title = \"Float64\" style = \"text-align: left;\">Float64</th><th title = \"Float64\" style = \"text-align: left;\">Float64</th><th title = \"Float64\" style = \"text-align: left;\">Float64</th><th title = \"Float64\" style = \"text-align: left;\">Float64</th><th title = \"Float64\" style = \"text-align: left;\">Float64</th><th title = \"Float64\" style = \"text-align: left;\">Float64</th><th title = \"Float64\" style = \"text-align: left;\">Float64</th><th title = \"Float64\" style = \"text-align: left;\">Float64</th><th title = \"Float64\" style = \"text-align: left;\">Float64</th><th title = \"Float64\" style = \"text-align: left;\">Float64</th><th title = \"Float64\" style = \"text-align: left;\">Float64</th><th title = \"Float64\" style = \"text-align: left;\">Float64</th><th title = \"Float64\" style = \"text-align: left;\">Float64</th><th title = \"Float64\" style = \"text-align: left;\">Float64</th><th title = \"Float64\" style = \"text-align: left;\">Float64</th><th title = \"Float64\" style = \"text-align: left;\">Float64</th><th title = \"Float64\" style = \"text-align: left;\">Float64</th><th title = \"Float64\" style = \"text-align: left;\">Float64</th><th title = \"Float64\" style = \"text-align: left;\">Float64</th><th title = \"Float64\" style = \"text-align: left;\">Float64</th><th title = \"Float64\" style = \"text-align: left;\">Float64</th><th title = \"Float64\" style = \"text-align: left;\">Float64</th><th title = \"Float64\" style = \"text-align: left;\">Float64</th><th title = \"Float64\" style = \"text-align: left;\">Float64</th><th title = \"Float64\" style = \"text-align: left;\">Float64</th><th title = \"Float64\" style = \"text-align: left;\">Float64</th><th title = \"Float64\" style = \"text-align: left;\">Float64</th><th title = \"Float64\" style = \"text-align: left;\">Float64</th><th title = \"Float64\" style = \"text-align: left;\">Float64</th><th title = \"Float64\" style = \"text-align: left;\">Float64</th></tr></thead><tbody><tr><td class = \"rowNumber\" style = \"font-weight: bold; text-align: right;\">1</td><td style = \"text-align: right;\">1.0</td><td style = \"text-align: right;\">0.0</td><td style = \"text-align: right;\">0.0</td><td style = \"text-align: right;\">0.0</td><td style = \"text-align: right;\">0.0</td><td style = \"text-align: right;\">0.0</td><td style = \"text-align: right;\">0.0</td><td style = \"text-align: right;\">0.0</td><td style = \"text-align: right;\">0.0</td><td style = \"text-align: right;\">0.0</td><td style = \"text-align: right;\">0.0</td><td style = \"text-align: right;\">0.0</td><td style = \"text-align: right;\">0.0</td><td style = \"text-align: right;\">0.0</td><td style = \"text-align: right;\">0.0</td><td style = \"text-align: right;\">0.0</td><td style = \"text-align: right;\">0.0</td><td style = \"text-align: right;\">0.0</td><td style = \"text-align: right;\">0.0</td><td style = \"text-align: right;\">0.0</td><td style = \"text-align: right;\">0.0</td><td style = \"text-align: right;\">0.0</td><td style = \"text-align: right;\">0.0</td><td style = \"text-align: right;\">0.0</td><td style = \"text-align: right;\">0.0</td><td style = \"text-align: right;\">0.0</td><td style = \"text-align: right;\">0.0</td><td style = \"text-align: right;\">0.0</td><td style = \"text-align: right;\">1.0</td><td style = \"text-align: right;\">0.0</td><td style = \"text-align: right;\">0.0</td><td style = \"text-align: right;\">0.0</td><td style = \"text-align: right;\">0.0</td><td style = \"text-align: right;\">0.0</td><td style = \"text-align: right;\">0.0</td><td style = \"text-align: right;\">0.0</td><td style = \"text-align: right;\">0.0</td><td style = \"text-align: right;\">0.0</td><td style = \"text-align: right;\">0.0</td><td style = \"text-align: right;\">0.0</td><td style = \"text-align: right;\">0.0</td><td style = \"text-align: right;\">0.0</td><td style = \"text-align: right;\">0.0</td><td style = \"text-align: right;\">0.0</td><td style = \"text-align: right;\">0.0</td><td style = \"text-align: right;\">0.0</td><td style = \"text-align: right;\">0.0</td><td style = \"text-align: right;\">0.0</td><td style = \"text-align: right;\">0.0</td><td style = \"text-align: right;\">0.0</td><td style = \"text-align: right;\">0.0</td><td style = \"text-align: right;\">0.0</td><td style = \"text-align: right;\">0.0</td><td style = \"text-align: right;\">0.0</td><td style = \"text-align: right;\">0.0</td><td style = \"text-align: right;\">0.0</td></tr><tr><td class = \"rowNumber\" style = \"font-weight: bold; text-align: right;\">2</td><td style = \"text-align: right;\">0.0</td><td style = \"text-align: right;\">1.0</td><td style = \"text-align: right;\">0.0</td><td style = \"text-align: right;\">0.0</td><td style = \"text-align: right;\">0.0</td><td style = \"text-align: right;\">0.0</td><td style = \"text-align: right;\">0.0</td><td style = \"text-align: right;\">0.0</td><td style = \"text-align: right;\">0.0</td><td style = \"text-align: right;\">0.0</td><td style = \"text-align: right;\">0.0</td><td style = \"text-align: right;\">0.0</td><td style = \"text-align: right;\">0.0</td><td style = \"text-align: right;\">0.0</td><td style = \"text-align: right;\">0.0</td><td style = \"text-align: right;\">0.0</td><td style = \"text-align: right;\">0.0</td><td style = \"text-align: right;\">0.0</td><td style = \"text-align: right;\">0.0</td><td style = \"text-align: right;\">0.0</td><td style = \"text-align: right;\">0.0</td><td style = \"text-align: right;\">0.0</td><td style = \"text-align: right;\">0.0</td><td style = \"text-align: right;\">0.0</td><td style = \"text-align: right;\">0.0</td><td style = \"text-align: right;\">0.0</td><td style = \"text-align: right;\">0.0</td><td style = \"text-align: right;\">0.0</td><td style = \"text-align: right;\">0.0</td><td style = \"text-align: right;\">1.0</td><td style = \"text-align: right;\">0.0</td><td style = \"text-align: right;\">0.0</td><td style = \"text-align: right;\">0.0</td><td style = \"text-align: right;\">0.0</td><td style = \"text-align: right;\">0.0</td><td style = \"text-align: right;\">0.0</td><td style = \"text-align: right;\">0.0</td><td style = \"text-align: right;\">0.0</td><td style = \"text-align: right;\">0.0</td><td style = \"text-align: right;\">0.0</td><td style = \"text-align: right;\">0.0</td><td style = \"text-align: right;\">0.0</td><td style = \"text-align: right;\">0.0</td><td style = \"text-align: right;\">0.0</td><td style = \"text-align: right;\">0.0</td><td style = \"text-align: right;\">0.0</td><td style = \"text-align: right;\">0.0</td><td style = \"text-align: right;\">0.0</td><td style = \"text-align: right;\">0.0</td><td style = \"text-align: right;\">0.0</td><td style = \"text-align: right;\">0.0</td><td style = \"text-align: right;\">0.0</td><td style = \"text-align: right;\">0.0</td><td style = \"text-align: right;\">0.0</td><td style = \"text-align: right;\">0.0</td><td style = \"text-align: right;\">0.0</td></tr><tr><td class = \"rowNumber\" style = \"font-weight: bold; text-align: right;\">3</td><td style = \"text-align: right;\">0.0</td><td style = \"text-align: right;\">0.0</td><td style = \"text-align: right;\">1.0</td><td style = \"text-align: right;\">0.0</td><td style = \"text-align: right;\">0.0</td><td style = \"text-align: right;\">0.0</td><td style = \"text-align: right;\">0.0</td><td style = \"text-align: right;\">0.0</td><td style = \"text-align: right;\">0.0</td><td style = \"text-align: right;\">0.0</td><td style = \"text-align: right;\">0.0</td><td style = \"text-align: right;\">0.0</td><td style = \"text-align: right;\">0.0</td><td style = \"text-align: right;\">0.0</td><td style = \"text-align: right;\">0.0</td><td style = \"text-align: right;\">0.0</td><td style = \"text-align: right;\">0.0</td><td style = \"text-align: right;\">0.0</td><td style = \"text-align: right;\">0.0</td><td style = \"text-align: right;\">0.0</td><td style = \"text-align: right;\">0.0</td><td style = \"text-align: right;\">0.0</td><td style = \"text-align: right;\">0.0</td><td style = \"text-align: right;\">0.0</td><td style = \"text-align: right;\">0.0</td><td style = \"text-align: right;\">0.0</td><td style = \"text-align: right;\">0.0</td><td style = \"text-align: right;\">0.0</td><td style = \"text-align: right;\">0.0</td><td style = \"text-align: right;\">0.0</td><td style = \"text-align: right;\">1.0</td><td style = \"text-align: right;\">0.0</td><td style = \"text-align: right;\">0.0</td><td style = \"text-align: right;\">0.0</td><td style = \"text-align: right;\">0.0</td><td style = \"text-align: right;\">0.0</td><td style = \"text-align: right;\">0.0</td><td style = \"text-align: right;\">0.0</td><td style = \"text-align: right;\">0.0</td><td style = \"text-align: right;\">0.0</td><td style = \"text-align: right;\">0.0</td><td style = \"text-align: right;\">0.0</td><td style = \"text-align: right;\">0.0</td><td style = \"text-align: right;\">0.0</td><td style = \"text-align: right;\">0.0</td><td style = \"text-align: right;\">0.0</td><td style = \"text-align: right;\">0.0</td><td style = \"text-align: right;\">0.0</td><td style = \"text-align: right;\">0.0</td><td style = \"text-align: right;\">0.0</td><td style = \"text-align: right;\">0.0</td><td style = \"text-align: right;\">0.0</td><td style = \"text-align: right;\">0.0</td><td style = \"text-align: right;\">0.0</td><td style = \"text-align: right;\">0.0</td><td style = \"text-align: right;\">0.0</td></tr><tr><td class = \"rowNumber\" style = \"font-weight: bold; text-align: right;\">4</td><td style = \"text-align: right;\">0.0</td><td style = \"text-align: right;\">0.0</td><td style = \"text-align: right;\">0.0</td><td style = \"text-align: right;\">1.0</td><td style = \"text-align: right;\">0.0</td><td style = \"text-align: right;\">0.0</td><td style = \"text-align: right;\">0.0</td><td style = \"text-align: right;\">0.0</td><td style = \"text-align: right;\">0.0</td><td style = \"text-align: right;\">0.0</td><td style = \"text-align: right;\">0.0</td><td style = \"text-align: right;\">0.0</td><td style = \"text-align: right;\">0.0</td><td style = \"text-align: right;\">0.0</td><td style = \"text-align: right;\">0.0</td><td style = \"text-align: right;\">0.0</td><td style = \"text-align: right;\">0.0</td><td style = \"text-align: right;\">0.0</td><td style = \"text-align: right;\">0.0</td><td style = \"text-align: right;\">0.0</td><td style = \"text-align: right;\">0.0</td><td style = \"text-align: right;\">0.0</td><td style = \"text-align: right;\">0.0</td><td style = \"text-align: right;\">0.0</td><td style = \"text-align: right;\">0.0</td><td style = \"text-align: right;\">0.0</td><td style = \"text-align: right;\">0.0</td><td style = \"text-align: right;\">0.0</td><td style = \"text-align: right;\">0.0</td><td style = \"text-align: right;\">0.0</td><td style = \"text-align: right;\">0.0</td><td style = \"text-align: right;\">1.0</td><td style = \"text-align: right;\">0.0</td><td style = \"text-align: right;\">0.0</td><td style = \"text-align: right;\">0.0</td><td style = \"text-align: right;\">0.0</td><td style = \"text-align: right;\">0.0</td><td style = \"text-align: right;\">0.0</td><td style = \"text-align: right;\">0.0</td><td style = \"text-align: right;\">0.0</td><td style = \"text-align: right;\">0.0</td><td style = \"text-align: right;\">0.0</td><td style = \"text-align: right;\">0.0</td><td style = \"text-align: right;\">0.0</td><td style = \"text-align: right;\">0.0</td><td style = \"text-align: right;\">0.0</td><td style = \"text-align: right;\">0.0</td><td style = \"text-align: right;\">0.0</td><td style = \"text-align: right;\">0.0</td><td style = \"text-align: right;\">0.0</td><td style = \"text-align: right;\">0.0</td><td style = \"text-align: right;\">0.0</td><td style = \"text-align: right;\">0.0</td><td style = \"text-align: right;\">0.0</td><td style = \"text-align: right;\">0.0</td><td style = \"text-align: right;\">0.0</td></tr><tr><td class = \"rowNumber\" style = \"font-weight: bold; text-align: right;\">5</td><td style = \"text-align: right;\">0.0</td><td style = \"text-align: right;\">0.0</td><td style = \"text-align: right;\">0.0</td><td style = \"text-align: right;\">0.0</td><td style = \"text-align: right;\">1.0</td><td style = \"text-align: right;\">0.0</td><td style = \"text-align: right;\">0.0</td><td style = \"text-align: right;\">0.0</td><td style = \"text-align: right;\">0.0</td><td style = \"text-align: right;\">0.0</td><td style = \"text-align: right;\">0.0</td><td style = \"text-align: right;\">0.0</td><td style = \"text-align: right;\">0.0</td><td style = \"text-align: right;\">0.0</td><td style = \"text-align: right;\">0.0</td><td style = \"text-align: right;\">0.0</td><td style = \"text-align: right;\">0.0</td><td style = \"text-align: right;\">0.0</td><td style = \"text-align: right;\">0.0</td><td style = \"text-align: right;\">0.0</td><td style = \"text-align: right;\">0.0</td><td style = \"text-align: right;\">0.0</td><td style = \"text-align: right;\">0.0</td><td style = \"text-align: right;\">0.0</td><td style = \"text-align: right;\">0.0</td><td style = \"text-align: right;\">0.0</td><td style = \"text-align: right;\">0.0</td><td style = \"text-align: right;\">0.0</td><td style = \"text-align: right;\">0.0</td><td style = \"text-align: right;\">0.0</td><td style = \"text-align: right;\">0.0</td><td style = \"text-align: right;\">0.0</td><td style = \"text-align: right;\">1.0</td><td style = \"text-align: right;\">0.0</td><td style = \"text-align: right;\">0.0</td><td style = \"text-align: right;\">0.0</td><td style = \"text-align: right;\">0.0</td><td style = \"text-align: right;\">0.0</td><td style = \"text-align: right;\">0.0</td><td style = \"text-align: right;\">0.0</td><td style = \"text-align: right;\">0.0</td><td style = \"text-align: right;\">0.0</td><td style = \"text-align: right;\">0.0</td><td style = \"text-align: right;\">0.0</td><td style = \"text-align: right;\">0.0</td><td style = \"text-align: right;\">0.0</td><td style = \"text-align: right;\">0.0</td><td style = \"text-align: right;\">0.0</td><td style = \"text-align: right;\">0.0</td><td style = \"text-align: right;\">0.0</td><td style = \"text-align: right;\">0.0</td><td style = \"text-align: right;\">0.0</td><td style = \"text-align: right;\">0.0</td><td style = \"text-align: right;\">0.0</td><td style = \"text-align: right;\">0.0</td><td style = \"text-align: right;\">0.0</td></tr><tr><td class = \"rowNumber\" style = \"font-weight: bold; text-align: right;\">6</td><td style = \"text-align: right;\">0.0</td><td style = \"text-align: right;\">0.0</td><td style = \"text-align: right;\">0.0</td><td style = \"text-align: right;\">0.0</td><td style = \"text-align: right;\">0.0</td><td style = \"text-align: right;\">1.0</td><td style = \"text-align: right;\">0.0</td><td style = \"text-align: right;\">0.0</td><td style = \"text-align: right;\">0.0</td><td style = \"text-align: right;\">0.0</td><td style = \"text-align: right;\">0.0</td><td style = \"text-align: right;\">0.0</td><td style = \"text-align: right;\">0.0</td><td style = \"text-align: right;\">0.0</td><td style = \"text-align: right;\">0.0</td><td style = \"text-align: right;\">0.0</td><td style = \"text-align: right;\">0.0</td><td style = \"text-align: right;\">0.0</td><td style = \"text-align: right;\">0.0</td><td style = \"text-align: right;\">0.0</td><td style = \"text-align: right;\">0.0</td><td style = \"text-align: right;\">0.0</td><td style = \"text-align: right;\">0.0</td><td style = \"text-align: right;\">0.0</td><td style = \"text-align: right;\">0.0</td><td style = \"text-align: right;\">0.0</td><td style = \"text-align: right;\">0.0</td><td style = \"text-align: right;\">0.0</td><td style = \"text-align: right;\">0.0</td><td style = \"text-align: right;\">0.0</td><td style = \"text-align: right;\">0.0</td><td style = \"text-align: right;\">0.0</td><td style = \"text-align: right;\">0.0</td><td style = \"text-align: right;\">1.0</td><td style = \"text-align: right;\">0.0</td><td style = \"text-align: right;\">0.0</td><td style = \"text-align: right;\">0.0</td><td style = \"text-align: right;\">0.0</td><td style = \"text-align: right;\">0.0</td><td style = \"text-align: right;\">0.0</td><td style = \"text-align: right;\">0.0</td><td style = \"text-align: right;\">0.0</td><td style = \"text-align: right;\">0.0</td><td style = \"text-align: right;\">0.0</td><td style = \"text-align: right;\">0.0</td><td style = \"text-align: right;\">0.0</td><td style = \"text-align: right;\">0.0</td><td style = \"text-align: right;\">0.0</td><td style = \"text-align: right;\">0.0</td><td style = \"text-align: right;\">0.0</td><td style = \"text-align: right;\">0.0</td><td style = \"text-align: right;\">0.0</td><td style = \"text-align: right;\">0.0</td><td style = \"text-align: right;\">0.0</td><td style = \"text-align: right;\">0.0</td><td style = \"text-align: right;\">0.0</td></tr><tr><td class = \"rowNumber\" style = \"font-weight: bold; text-align: right;\">7</td><td style = \"text-align: right;\">0.0</td><td style = \"text-align: right;\">0.0</td><td style = \"text-align: right;\">0.0</td><td style = \"text-align: right;\">0.0</td><td style = \"text-align: right;\">0.0</td><td style = \"text-align: right;\">0.0</td><td style = \"text-align: right;\">1.0</td><td style = \"text-align: right;\">0.0</td><td style = \"text-align: right;\">0.0</td><td style = \"text-align: right;\">0.0</td><td style = \"text-align: right;\">0.0</td><td style = \"text-align: right;\">0.0</td><td style = \"text-align: right;\">0.0</td><td style = \"text-align: right;\">0.0</td><td style = \"text-align: right;\">0.0</td><td style = \"text-align: right;\">0.0</td><td style = \"text-align: right;\">0.0</td><td style = \"text-align: right;\">0.0</td><td style = \"text-align: right;\">0.0</td><td style = \"text-align: right;\">0.0</td><td style = \"text-align: right;\">0.0</td><td style = \"text-align: right;\">0.0</td><td style = \"text-align: right;\">0.0</td><td style = \"text-align: right;\">0.0</td><td style = \"text-align: right;\">0.0</td><td style = \"text-align: right;\">0.0</td><td style = \"text-align: right;\">0.0</td><td style = \"text-align: right;\">0.0</td><td style = \"text-align: right;\">0.0</td><td style = \"text-align: right;\">0.0</td><td style = \"text-align: right;\">0.0</td><td style = \"text-align: right;\">0.0</td><td style = \"text-align: right;\">0.0</td><td style = \"text-align: right;\">0.0</td><td style = \"text-align: right;\">1.0</td><td style = \"text-align: right;\">0.0</td><td style = \"text-align: right;\">0.0</td><td style = \"text-align: right;\">0.0</td><td style = \"text-align: right;\">0.0</td><td style = \"text-align: right;\">0.0</td><td style = \"text-align: right;\">0.0</td><td style = \"text-align: right;\">0.0</td><td style = \"text-align: right;\">0.0</td><td style = \"text-align: right;\">0.0</td><td style = \"text-align: right;\">0.0</td><td style = \"text-align: right;\">0.0</td><td style = \"text-align: right;\">0.0</td><td style = \"text-align: right;\">0.0</td><td style = \"text-align: right;\">0.0</td><td style = \"text-align: right;\">0.0</td><td style = \"text-align: right;\">0.0</td><td style = \"text-align: right;\">0.0</td><td style = \"text-align: right;\">0.0</td><td style = \"text-align: right;\">0.0</td><td style = \"text-align: right;\">0.0</td><td style = \"text-align: right;\">0.0</td></tr><tr><td class = \"rowNumber\" style = \"font-weight: bold; text-align: right;\">8</td><td style = \"text-align: right;\">0.0</td><td style = \"text-align: right;\">0.0</td><td style = \"text-align: right;\">0.0</td><td style = \"text-align: right;\">0.0</td><td style = \"text-align: right;\">0.0</td><td style = \"text-align: right;\">0.0</td><td style = \"text-align: right;\">0.0</td><td style = \"text-align: right;\">1.0</td><td style = \"text-align: right;\">0.0</td><td style = \"text-align: right;\">0.0</td><td style = \"text-align: right;\">0.0</td><td style = \"text-align: right;\">0.0</td><td style = \"text-align: right;\">0.0</td><td style = \"text-align: right;\">0.0</td><td style = \"text-align: right;\">0.0</td><td style = \"text-align: right;\">0.0</td><td style = \"text-align: right;\">0.0</td><td style = \"text-align: right;\">0.0</td><td style = \"text-align: right;\">0.0</td><td style = \"text-align: right;\">0.0</td><td style = \"text-align: right;\">0.0</td><td style = \"text-align: right;\">0.0</td><td style = \"text-align: right;\">0.0</td><td style = \"text-align: right;\">0.0</td><td style = \"text-align: right;\">0.0</td><td style = \"text-align: right;\">0.0</td><td style = \"text-align: right;\">0.0</td><td style = \"text-align: right;\">0.0</td><td style = \"text-align: right;\">0.0</td><td style = \"text-align: right;\">0.0</td><td style = \"text-align: right;\">0.0</td><td style = \"text-align: right;\">0.0</td><td style = \"text-align: right;\">0.0</td><td style = \"text-align: right;\">0.0</td><td style = \"text-align: right;\">0.0</td><td style = \"text-align: right;\">1.0</td><td style = \"text-align: right;\">0.0</td><td style = \"text-align: right;\">0.0</td><td style = \"text-align: right;\">0.0</td><td style = \"text-align: right;\">0.0</td><td style = \"text-align: right;\">0.0</td><td style = \"text-align: right;\">0.0</td><td style = \"text-align: right;\">0.0</td><td style = \"text-align: right;\">0.0</td><td style = \"text-align: right;\">0.0</td><td style = \"text-align: right;\">0.0</td><td style = \"text-align: right;\">0.0</td><td style = \"text-align: right;\">0.0</td><td style = \"text-align: right;\">0.0</td><td style = \"text-align: right;\">0.0</td><td style = \"text-align: right;\">0.0</td><td style = \"text-align: right;\">0.0</td><td style = \"text-align: right;\">0.0</td><td style = \"text-align: right;\">0.0</td><td style = \"text-align: right;\">0.0</td><td style = \"text-align: right;\">0.0</td></tr><tr><td class = \"rowNumber\" style = \"font-weight: bold; text-align: right;\">9</td><td style = \"text-align: right;\">0.0</td><td style = \"text-align: right;\">0.0</td><td style = \"text-align: right;\">0.0</td><td style = \"text-align: right;\">0.0</td><td style = \"text-align: right;\">0.0</td><td style = \"text-align: right;\">0.0</td><td style = \"text-align: right;\">0.0</td><td style = \"text-align: right;\">0.0</td><td style = \"text-align: right;\">1.0</td><td style = \"text-align: right;\">0.0</td><td style = \"text-align: right;\">0.0</td><td style = \"text-align: right;\">0.0</td><td style = \"text-align: right;\">0.0</td><td style = \"text-align: right;\">0.0</td><td style = \"text-align: right;\">0.0</td><td style = \"text-align: right;\">0.0</td><td style = \"text-align: right;\">0.0</td><td style = \"text-align: right;\">0.0</td><td style = \"text-align: right;\">0.0</td><td style = \"text-align: right;\">0.0</td><td style = \"text-align: right;\">0.0</td><td style = \"text-align: right;\">0.0</td><td style = \"text-align: right;\">0.0</td><td style = \"text-align: right;\">0.0</td><td style = \"text-align: right;\">0.0</td><td style = \"text-align: right;\">0.0</td><td style = \"text-align: right;\">0.0</td><td style = \"text-align: right;\">0.0</td><td style = \"text-align: right;\">0.0</td><td style = \"text-align: right;\">0.0</td><td style = \"text-align: right;\">0.0</td><td style = \"text-align: right;\">0.0</td><td style = \"text-align: right;\">0.0</td><td style = \"text-align: right;\">0.0</td><td style = \"text-align: right;\">0.0</td><td style = \"text-align: right;\">0.0</td><td style = \"text-align: right;\">1.0</td><td style = \"text-align: right;\">0.0</td><td style = \"text-align: right;\">0.0</td><td style = \"text-align: right;\">0.0</td><td style = \"text-align: right;\">0.0</td><td style = \"text-align: right;\">0.0</td><td style = \"text-align: right;\">0.0</td><td style = \"text-align: right;\">0.0</td><td style = \"text-align: right;\">0.0</td><td style = \"text-align: right;\">0.0</td><td style = \"text-align: right;\">0.0</td><td style = \"text-align: right;\">0.0</td><td style = \"text-align: right;\">0.0</td><td style = \"text-align: right;\">0.0</td><td style = \"text-align: right;\">0.0</td><td style = \"text-align: right;\">0.0</td><td style = \"text-align: right;\">0.0</td><td style = \"text-align: right;\">0.0</td><td style = \"text-align: right;\">0.0</td><td style = \"text-align: right;\">0.0</td></tr><tr><td class = \"rowNumber\" style = \"font-weight: bold; text-align: right;\">10</td><td style = \"text-align: right;\">0.0</td><td style = \"text-align: right;\">0.0</td><td style = \"text-align: right;\">0.0</td><td style = \"text-align: right;\">0.0</td><td style = \"text-align: right;\">0.0</td><td style = \"text-align: right;\">0.0</td><td style = \"text-align: right;\">0.0</td><td style = \"text-align: right;\">0.0</td><td style = \"text-align: right;\">0.0</td><td style = \"text-align: right;\">1.0</td><td style = \"text-align: right;\">0.0</td><td style = \"text-align: right;\">0.0</td><td style = \"text-align: right;\">0.0</td><td style = \"text-align: right;\">0.0</td><td style = \"text-align: right;\">0.0</td><td style = \"text-align: right;\">0.0</td><td style = \"text-align: right;\">0.0</td><td style = \"text-align: right;\">0.0</td><td style = \"text-align: right;\">0.0</td><td style = \"text-align: right;\">0.0</td><td style = \"text-align: right;\">0.0</td><td style = \"text-align: right;\">0.0</td><td style = \"text-align: right;\">0.0</td><td style = \"text-align: right;\">0.0</td><td style = \"text-align: right;\">0.0</td><td style = \"text-align: right;\">0.0</td><td style = \"text-align: right;\">0.0</td><td style = \"text-align: right;\">0.0</td><td style = \"text-align: right;\">0.0</td><td style = \"text-align: right;\">0.0</td><td style = \"text-align: right;\">0.0</td><td style = \"text-align: right;\">0.0</td><td style = \"text-align: right;\">0.0</td><td style = \"text-align: right;\">0.0</td><td style = \"text-align: right;\">0.0</td><td style = \"text-align: right;\">0.0</td><td style = \"text-align: right;\">0.0</td><td style = \"text-align: right;\">1.0</td><td style = \"text-align: right;\">0.0</td><td style = \"text-align: right;\">0.0</td><td style = \"text-align: right;\">0.0</td><td style = \"text-align: right;\">0.0</td><td style = \"text-align: right;\">0.0</td><td style = \"text-align: right;\">0.0</td><td style = \"text-align: right;\">0.0</td><td style = \"text-align: right;\">0.0</td><td style = \"text-align: right;\">0.0</td><td style = \"text-align: right;\">0.0</td><td style = \"text-align: right;\">0.0</td><td style = \"text-align: right;\">0.0</td><td style = \"text-align: right;\">0.0</td><td style = \"text-align: right;\">0.0</td><td style = \"text-align: right;\">0.0</td><td style = \"text-align: right;\">0.0</td><td style = \"text-align: right;\">0.0</td><td style = \"text-align: right;\">0.0</td></tr></tbody></table></div>"
      ],
      "text/latex": [
       "\\begin{tabular}{r|cccccccccc}\n",
       "\t& x1 & x2 & x3 & x4 & x5 & x6 & x7 & x8 & x9 & \\\\\n",
       "\t\\hline\n",
       "\t& Float64 & Float64 & Float64 & Float64 & Float64 & Float64 & Float64 & Float64 & Float64 & \\\\\n",
       "\t\\hline\n",
       "\t1 & 1.0 & 0.0 & 0.0 & 0.0 & 0.0 & 0.0 & 0.0 & 0.0 & 0.0 & $\\dots$ \\\\\n",
       "\t2 & 0.0 & 1.0 & 0.0 & 0.0 & 0.0 & 0.0 & 0.0 & 0.0 & 0.0 & $\\dots$ \\\\\n",
       "\t3 & 0.0 & 0.0 & 1.0 & 0.0 & 0.0 & 0.0 & 0.0 & 0.0 & 0.0 & $\\dots$ \\\\\n",
       "\t4 & 0.0 & 0.0 & 0.0 & 1.0 & 0.0 & 0.0 & 0.0 & 0.0 & 0.0 & $\\dots$ \\\\\n",
       "\t5 & 0.0 & 0.0 & 0.0 & 0.0 & 1.0 & 0.0 & 0.0 & 0.0 & 0.0 & $\\dots$ \\\\\n",
       "\t6 & 0.0 & 0.0 & 0.0 & 0.0 & 0.0 & 1.0 & 0.0 & 0.0 & 0.0 & $\\dots$ \\\\\n",
       "\t7 & 0.0 & 0.0 & 0.0 & 0.0 & 0.0 & 0.0 & 1.0 & 0.0 & 0.0 & $\\dots$ \\\\\n",
       "\t8 & 0.0 & 0.0 & 0.0 & 0.0 & 0.0 & 0.0 & 0.0 & 1.0 & 0.0 & $\\dots$ \\\\\n",
       "\t9 & 0.0 & 0.0 & 0.0 & 0.0 & 0.0 & 0.0 & 0.0 & 0.0 & 1.0 & $\\dots$ \\\\\n",
       "\t10 & 0.0 & 0.0 & 0.0 & 0.0 & 0.0 & 0.0 & 0.0 & 0.0 & 0.0 & $\\dots$ \\\\\n",
       "\\end{tabular}\n"
      ],
      "text/plain": [
       "\u001b[1m10×56 DataFrame\u001b[0m\n",
       "\u001b[1m Row \u001b[0m│\u001b[1m x1      \u001b[0m\u001b[1m x2      \u001b[0m\u001b[1m x3      \u001b[0m\u001b[1m x4      \u001b[0m\u001b[1m x5      \u001b[0m\u001b[1m x6      \u001b[0m\u001b[1m x7      \u001b[0m\u001b[1m x8      \u001b[0m\u001b[1m\u001b[0m ⋯\n",
       "     │\u001b[90m Float64 \u001b[0m\u001b[90m Float64 \u001b[0m\u001b[90m Float64 \u001b[0m\u001b[90m Float64 \u001b[0m\u001b[90m Float64 \u001b[0m\u001b[90m Float64 \u001b[0m\u001b[90m Float64 \u001b[0m\u001b[90m Float64 \u001b[0m\u001b[90m\u001b[0m ⋯\n",
       "─────┼──────────────────────────────────────────────────────────────────────────\n",
       "   1 │     1.0      0.0      0.0      0.0      0.0      0.0      0.0      0.0  ⋯\n",
       "   2 │     0.0      1.0      0.0      0.0      0.0      0.0      0.0      0.0\n",
       "   3 │     0.0      0.0      1.0      0.0      0.0      0.0      0.0      0.0\n",
       "   4 │     0.0      0.0      0.0      1.0      0.0      0.0      0.0      0.0\n",
       "   5 │     0.0      0.0      0.0      0.0      1.0      0.0      0.0      0.0  ⋯\n",
       "   6 │     0.0      0.0      0.0      0.0      0.0      1.0      0.0      0.0\n",
       "   7 │     0.0      0.0      0.0      0.0      0.0      0.0      1.0      0.0\n",
       "   8 │     0.0      0.0      0.0      0.0      0.0      0.0      0.0      1.0\n",
       "   9 │     0.0      0.0      0.0      0.0      0.0      0.0      0.0      0.0  ⋯\n",
       "  10 │     0.0      0.0      0.0      0.0      0.0      0.0      0.0      0.0\n",
       "\u001b[36m                                                              48 columns omitted\u001b[0m"
      ]
     },
     "execution_count": 28,
     "metadata": {},
     "output_type": "execute_result"
    }
   ],
   "source": [
    "pohe = catf |> ohe\n",
    "tr = fit_transform!(pohe,X,Y)\n",
    "head(tr)"
   ]
  },
  {
   "cell_type": "markdown",
   "id": "bb600172-02b8-4cc7-b569-f764c08b3121",
   "metadata": {
    "editable": false,
    "slideshow": {
     "slide_type": "subslide"
    },
    "tags": []
   },
   "source": [
    "### Pipeline to transform numerical features to pca and ica and concatenate them"
   ]
  },
  {
   "cell_type": "code",
   "execution_count": 35,
   "id": "232fa3e8-c427-4960-8349-7de83ae0b663",
   "metadata": {
    "editable": false,
    "slideshow": {
     "slide_type": "fragment"
    },
    "tags": []
   },
   "outputs": [
    {
     "name": "stdout",
     "output_type": "stream",
     "text": [
      "\u001b[0m\u001b[1m10×8 DataFrame\u001b[0m\n",
      "\u001b[0m\u001b[1m Row \u001b[0m│\u001b[1m x1       \u001b[0m\u001b[1m x2        \u001b[0m\u001b[1m x3         \u001b[0m\u001b[1m x4        \u001b[0m\u001b[1m x1_1    \u001b[0m\u001b[1m x2_1      \u001b[0m\u001b[1m x3_1       \u001b[0m\u001b[1m x4_1      \u001b[0m\n",
      "\u001b[0m     │\u001b[90m Float64  \u001b[0m\u001b[90m Float64   \u001b[0m\u001b[90m Float64    \u001b[0m\u001b[90m Float64   \u001b[0m\u001b[90m Float64 \u001b[0m\u001b[90m Float64   \u001b[0m\u001b[90m Float64    \u001b[0m\u001b[90m Float64   \u001b[0m\n",
      "\u001b[0m─────┼───────────────────────────────────────────────────────────────────────────────────────\n",
      "\u001b[0m   1 │  2.47477    7.87074  -1.10495    -0.902431  1.21219   0.694445  -0.0827759   0.434858\n",
      "\u001b[0m   2 │ -5.47113   -3.82946  -2.08342    -1.00524   1.16818   0.185039   0.559823   -0.855054\n",
      "\u001b[0m   3 │ 30.4068   -10.8073   -6.12339    -0.883938  1.09581   1.28695   -3.01305    -1.89119\n",
      "\u001b[0m   4 │  8.18372  -15.507    -1.43203    -1.08255   1.18184  -0.499186  -0.963083   -1.7005\n",
      "\u001b[0m   5 │ 16.6176    -6.68636  -1.66597    -0.978243  1.19415   0.172818  -1.67191    -0.872769\n",
      "\u001b[0m   6 │ 10.2588     5.22112   0.0731649  -0.928496  1.24383   0.320736  -0.910217    0.453023\n",
      "\u001b[0m   7 │  7.13435    5.60902   0.368661   -0.939797  1.24854   0.227097  -0.601089    0.513793\n",
      "\u001b[0m   8 │ -1.16369   10.3011   -2.15564    -0.86957   1.18697   1.07108    0.329301    0.450435\n",
      "\u001b[0m   9 │ -6.38764   -4.92017  -3.57339    -0.986345  1.13078   0.508007   0.662073   -1.21234\n",
      "\u001b[0m  10 │ 17.0567     0.672    -3.29448    -0.879581  1.16465   1.0364    -1.58512    -0.47501"
     ]
    }
   ],
   "source": [
    "pdec = (numf |> pca) + (numf |> ica)\n",
    "tr = fit_transform!(pdec,X,Y)\n",
    "head(tr) |> printstyled"
   ]
  },
  {
   "cell_type": "markdown",
   "id": "06edc5b2-1f16-4d01-8ac9-cda737cbad19",
   "metadata": {
    "editable": false,
    "slideshow": {
     "slide_type": "subslide"
    },
    "tags": []
   },
   "source": [
    "### More complex pipeline with robust scaling and power transform"
   ]
  },
  {
   "cell_type": "code",
   "execution_count": 30,
   "id": "41ba7f8c-f20d-4507-b2ee-d02a0d1ca7e6",
   "metadata": {
    "editable": false,
    "slideshow": {
     "slide_type": "fragment"
    },
    "tags": []
   },
   "outputs": [
    {
     "name": "stdout",
     "output_type": "stream",
     "text": [
      "\u001b[0m\u001b[1m10×8 DataFrame\u001b[0m\n",
      "\u001b[0m\u001b[1m Row \u001b[0m│\u001b[1m x1         \u001b[0m\u001b[1m x2        \u001b[0m\u001b[1m x3        \u001b[0m\u001b[1m x4      \u001b[0m\u001b[1m x1_1       \u001b[0m\u001b[1m x2_1      \u001b[0m\u001b[1m x3_1        \u001b[0m\u001b[1m x4_1       \u001b[0m\n",
      "\u001b[0m     │\u001b[90m Float64    \u001b[0m\u001b[90m Float64   \u001b[0m\u001b[90m Float64   \u001b[0m\u001b[90m Float64 \u001b[0m\u001b[90m Float64    \u001b[0m\u001b[90m Float64   \u001b[0m\u001b[90m Float64     \u001b[0m\u001b[90m Float64    \u001b[0m\n",
      "\u001b[0m─────┼───────────────────────────────────────────────────────────────────────────────────────────\n",
      "\u001b[0m   1 │  0.0807042  -0.694806  -0.435322  1.21196  -0.64552    -1.40289   -0.0284468    0.111773\n",
      "\u001b[0m   2 │ -0.561567   -0.181312   0.853176  1.1693   -0.832404   -0.475629  -1.14881     -0.01702\n",
      "\u001b[0m   3 │  3.00891    -1.2872     1.89369   1.10255   1.54491    -1.65258   -1.35967     -2.57866\n",
      "\u001b[0m   4 │  0.962134    0.502173   1.69774   1.1853    1.32065    -0.563565  -2.05839     -0.74898\n",
      "\u001b[0m   5 │  1.67015    -0.172989   0.871889  1.19723   1.1223     -1.45555   -0.88864     -0.776195\n",
      "\u001b[0m   6 │  0.908788   -0.322587  -0.454009  1.24404   0.277462   -1.70936    0.00130938   0.0768767\n",
      "\u001b[0m   7 │  0.599852   -0.228538  -0.515151  1.24831   0.0977821  -1.58007   -0.0364638    0.258464\n",
      "\u001b[0m   8 │ -0.33201    -1.07076   -0.450185  1.18659  -1.31815    -1.27463    0.00789964  -0.0553192\n",
      "\u001b[0m   9 │ -0.664529   -0.503296   1.21122   1.13265  -1.29056    -0.326316  -1.31916     -0.511818\n",
      "\u001b[0m  10 │  1.58205    -1.03735    0.476135  1.16752   0.318224   -1.76616   -0.28608     -1.02674"
     ]
    }
   ],
   "source": [
    "ppt = (numf |> rb |> ica) + (numf |> pt |> pca)\n",
    "tr = fit_transform!(ppt,X,Y)\n",
    "head(tr) |> printstyled"
   ]
  },
  {
   "cell_type": "markdown",
   "id": "c6499dfa-f12c-4733-9f82-12e2332f3798",
   "metadata": {
    "editable": false,
    "slideshow": {
     "slide_type": "subslide"
    },
    "tags": []
   },
   "source": [
    "### Evaluating complex pipeline with RandomForest learner"
   ]
  },
  {
   "cell_type": "code",
   "execution_count": 37,
   "id": "0bd09a14-8533-4bb3-bc02-7cd98ab90c26",
   "metadata": {
    "editable": false,
    "slideshow": {
     "slide_type": "fragment"
    },
    "tags": []
   },
   "outputs": [
    {
     "name": "stdout",
     "output_type": "stream",
     "text": [
      "fold: 1, 0.6567164179104478\n",
      "fold: 2, 0.6417910447761194\n",
      "fold: 3, 0.7058823529411765\n",
      "fold: 4, 0.47761194029850745\n",
      "fold: 5, 0.6865671641791045\n",
      "fold: 6, 0.7014925373134329\n",
      "fold: 7, 0.7313432835820896\n",
      "fold: 8, 0.7352941176470589\n",
      "fold: 9, 0.7611940298507462\n",
      "fold: 10, 0.6567164179104478\n",
      "errors: 0\n"
     ]
    },
    {
     "data": {
      "text/plain": [
       "(mean = 0.6754609306409132, std = 0.07941457013704799, folds = 10, errors = 0)"
      ]
     },
     "execution_count": 37,
     "metadata": {},
     "output_type": "execute_result"
    }
   ],
   "source": [
    "prf = (catf |> ohe) + (numf |> rb |> fa) + (numf |> pt |> pca) |> rf\n",
    "crossvalidate(prf,X,Y,\"accuracy_score\")"
   ]
  },
  {
   "cell_type": "markdown",
   "id": "dfaf1449-99a3-4cda-8164-7d250ed9b1f2",
   "metadata": {
    "editable": false,
    "slideshow": {
     "slide_type": "subslide"
    },
    "tags": []
   },
   "source": [
    "### Evaluating complex pipeline with Linear SVM learner"
   ]
  },
  {
   "cell_type": "code",
   "execution_count": 16,
   "id": "a50c731a-13e6-4be9-8c1f-ce94941abc16",
   "metadata": {
    "editable": false,
    "slideshow": {
     "slide_type": "fragment"
    },
    "tags": []
   },
   "outputs": [
    {
     "name": "stdout",
     "output_type": "stream",
     "text": [
      "fold: 1, 0.7611940298507462\n",
      "fold: 2, 0.7910447761194029\n",
      "fold: 3, 0.6617647058823529\n",
      "fold: 4, 0.6865671641791045\n",
      "fold: 5, 0.6268656716417911\n",
      "fold: 6, 0.7313432835820896\n",
      "fold: 7, 0.7761194029850746\n",
      "fold: 8, 0.6911764705882353\n",
      "fold: 9, 0.7014925373134329\n",
      "fold: 10, 0.7761194029850746\n",
      "errors: 0\n"
     ]
    },
    {
     "data": {
      "text/plain": [
       "(mean = 0.7203687445127305, std = 0.0553040309791105, folds = 10, errors = 0)"
      ]
     },
     "execution_count": 16,
     "metadata": {},
     "output_type": "execute_result"
    }
   ],
   "source": [
    "plsvc = (catf |> ohe) + (numf |> rb |> fa) + (numf |> pt |> pca) |> lsvc\n",
    "crossvalidate(plsvc,X,Y,\"accuracy_score\")"
   ]
  },
  {
   "cell_type": "markdown",
   "id": "91dccdf1-2c80-4d58-b5bb-d1be192afa0d",
   "metadata": {
    "editable": false,
    "slideshow": {
     "slide_type": "subslide"
    },
    "tags": []
   },
   "source": [
    "### Parallel search of the best ML pipeline"
   ]
  },
  {
   "cell_type": "code",
   "execution_count": 19,
   "id": "0805adc4-c1a6-4194-b812-4d10cec9f933",
   "metadata": {
    "editable": false,
    "slideshow": {
     "slide_type": "fragment"
    },
    "tags": []
   },
   "outputs": [
    {
     "name": "stdout",
     "output_type": "stream",
     "text": [
      "      From worker 3:\tAdaBoostClassifier\n",
      "      From worker 2:\trf\n",
      "      From worker 5:\tLinearSVC\n",
      "      From worker 6:\tprunetree\n",
      "      From worker 4:\tSGDClassifier\n",
      "      From worker 6:\tfold: 1, 0.6473214285714286\n",
      "      From worker 2:\tfold: 1, 0.7142857142857143\n",
      "      From worker 4:\tfold: 1, 0.6964285714285714\n",
      "      From worker 5:\tfold: 1, 0.7142857142857143\n",
      "      From worker 6:\tfold: 2, 0.5758928571428571\n",
      "      From worker 2:\tfold: 2, 0.6339285714285714\n",
      "      From worker 3:\tfold: 1, 0.6473214285714286\n",
      "      From worker 5:\tfold: 2, 0.7098214285714286\n",
      "      From worker 4:\tfold: 2, 0.6383928571428571\n",
      "      From worker 6:\tfold: 3, 0.5714285714285714\n",
      "      From worker 6:\terrors: 0\n",
      "      From worker 2:\tfold: 3, 0.6294642857142857\n",
      "      From worker 2:\terrors: 0\n",
      "      From worker 5:\tfold: 3, 0.7678571428571429\n",
      "      From worker 5:\terrors: 0\n",
      "      From worker 4:\tfold: 3, 0.7276785714285714\n",
      "      From worker 4:\terrors: 0\n",
      "      From worker 3:\tfold: 2, 0.6875\n",
      "      From worker 3:\tfold: 3, 0.6517857142857143\n",
      "      From worker 3:\terrors: 0\n"
     ]
    }
   ],
   "source": [
    "using Random, DataFrames, Distributed\n",
    "nprocs() == 1 && addprocs()\n",
    "@everywhere using DataFrames; @everywhere using AutoMLPipeline\n",
    "@everywhere begin\n",
    "    import PythonCall; const PYC=PythonCall; warnings = PYC.pyimport(\"warnings\"); warnings.filterwarnings(\"ignore\")\n",
    "end\n",
    "@everywhere begin\n",
    "  profbdata = getprofb(); X = profbdata[:,2:end]; Y = profbdata[:,1] |> Vector;\n",
    "end\n",
    "@everywhere begin\n",
    "  jrf  = RandomForest(); ohe  = OneHotEncoder(); catf = CatFeatureSelector(); numf = NumFeatureSelector()\n",
    "  tree = PrunedTree(); ada  = skoperator(\"AdaBoostClassifier\"); disc = CatNumDiscriminator()\n",
    "  sgd  = skoperator(\"SGDClassifier\"); std  = skoperator(\"StandardScaler\"); lsvc = skoperator(\"LinearSVC\")\n",
    "end\n",
    "\n",
    "learners = @sync @distributed (vcat) for learner in [jrf,ada,sgd,lsvc,tree]\n",
    "   pcmc = disc |> ((catf |> ohe) + (numf |> std)) |> learner\n",
    "   println(learner.name[1:end-4])\n",
    "   mean,sd,_ = crossvalidate(pcmc,X,Y,\"accuracy_score\",3)\n",
    "   DataFrame(name=learner.name[1:end-4],mean=mean,sd=sd)\n",
    "end;"
   ]
  },
  {
   "cell_type": "markdown",
   "id": "9fd6df9a-3026-4b8a-bd8c-886ed6c24e51",
   "metadata": {
    "editable": false,
    "slideshow": {
     "slide_type": "subslide"
    },
    "tags": []
   },
   "source": [
    "### Best Pipeline"
   ]
  },
  {
   "cell_type": "code",
   "execution_count": 10,
   "id": "a73ea299-4640-4284-9a38-3239a596f255",
   "metadata": {
    "editable": false,
    "slideshow": {
     "slide_type": "fragment"
    },
    "tags": []
   },
   "outputs": [
    {
     "name": "stdout",
     "output_type": "stream",
     "text": [
      "sort!(learners, :mean, rev = true) = 5×3 DataFrame\n",
      " Row │ name                mean      sd\n",
      "     │ String              Float64   Float64\n",
      "─────┼─────────────────────────────────────────\n",
      "   1 │ SGDClassifier       0.729167  0.0220218\n",
      "   2 │ LinearSVC           0.71875   0.0348672\n",
      "   3 │ AdaBoostClassifier  0.68006   0.0185863\n",
      "   4 │ rf                  0.672619  0.0156781\n",
      "   5 │ prunetree           0.605655  0.0272772\n"
     ]
    }
   ],
   "source": [
    "@show sort!(learners,:mean,rev=true);"
   ]
  },
  {
   "cell_type": "markdown",
   "id": "31f35340-5bb7-4b2d-a3c9-25c1fcb525c8",
   "metadata": {
    "editable": false,
    "slideshow": {
     "slide_type": "slide"
    },
    "tags": []
   },
   "source": [
    "# E2EAI Application"
   ]
  },
  {
   "cell_type": "markdown",
   "id": "2c268a64-4a11-466b-acfe-0ce2b72f8912",
   "metadata": {
    "editable": false,
    "slideshow": {
     "slide_type": "subslide"
    },
    "tags": []
   },
   "source": [
    "## Infrastructure Creation Automation\n",
    "\n",
    "<center>\n",
    "    <img src=\"./inventory.png\">\n",
    "</center>"
   ]
  },
  {
   "cell_type": "markdown",
   "id": "8b0fbe2f-559b-4b8f-9004-f787a55118bc",
   "metadata": {
    "editable": false,
    "slideshow": {
     "slide_type": "subslide"
    },
    "tags": []
   },
   "source": [
    "## E2EAI Cluster Observability\n",
    "<center>\n",
    "     <img src=\"./dashboard.png\"/>\n",
    "</center>"
   ]
  },
  {
   "cell_type": "markdown",
   "id": "a6057c2c-07bd-4820-bb53-f1b99f2d3923",
   "metadata": {
    "editable": false,
    "slideshow": {
     "slide_type": "subslide"
    },
    "tags": []
   },
   "source": [
    "## AI as a Service: Zero Coding Using Workflow Template\n",
    "<center>\n",
    "    <img src=\"./template.png\" width=\"700\"/>\n",
    "    <img src=\"./cluster-template.png\" width=\"700\"/>\n",
    "    <img src=\"./argo-workflow.png\" width=\"700 \"/>\n",
    "</center>"
   ]
  },
  {
   "cell_type": "markdown",
   "id": "59c75256-ee7f-45af-b32f-1ddafc730760",
   "metadata": {
    "editable": false,
    "slideshow": {
     "slide_type": "subslide"
    },
    "tags": []
   },
   "source": [
    "## Explicit ML Pipeline\n",
    "\n",
    "<center><img src=\"./mlpipeline.png\" width=\"600\"/></center>"
   ]
  },
  {
   "cell_type": "markdown",
   "id": "c15ccdde-17be-4768-b475-b8f6ca2e866b",
   "metadata": {
    "editable": false,
    "slideshow": {
     "slide_type": "slide"
    },
    "tags": []
   },
   "source": [
    "## Optimal Pipeline Discovery by AutoML\n",
    "<center><img src=\"./lowcode.png\" width=\"500\"/></center>"
   ]
  },
  {
   "cell_type": "markdown",
   "id": "7f86ede7-1b71-431b-8950-5889fc6161c7",
   "metadata": {
    "editable": false,
    "slideshow": {
     "slide_type": "subslide"
    },
    "tags": []
   },
   "source": [
    "## Low vs High Pipeline Complexity\n",
    "<center>\n",
    "    <img src=\"./argo-submit.png\"/>\n",
    "</center>"
   ]
  },
  {
   "cell_type": "markdown",
   "id": "5f13877c-f6d0-4e51-a10d-fa426719f547",
   "metadata": {
    "editable": false,
    "slideshow": {
     "slide_type": "subslide"
    },
    "tags": []
   },
   "source": [
    "### Low Complexity Pipeline for Classification\n",
    "<center><img src=\"./low-comp.png\" width=\"500\"/></center>"
   ]
  },
  {
   "cell_type": "markdown",
   "id": "d412f68e-f5d0-4599-9a42-63bde485f58e",
   "metadata": {
    "editable": false,
    "slideshow": {
     "slide_type": "subslide"
    },
    "tags": []
   },
   "source": [
    "### High Complexity Pipeline for Classification\n",
    "<center><img src=\"./high-comp.png\" width=\"500\"/></center>"
   ]
  },
  {
   "cell_type": "markdown",
   "id": "8ca56903-1c1e-4213-9fab-a3842374eaa0",
   "metadata": {
    "editable": false,
    "slideshow": {
     "slide_type": "subslide"
    },
    "tags": []
   },
   "source": [
    "### Sample AutoML Workflow Template\n",
    "<center><img src=\"./yaml-template.png\"/></center>"
   ]
  },
  {
   "cell_type": "markdown",
   "id": "0728bed8-233b-41ef-9a8f-bcaae5014d34",
   "metadata": {
    "editable": false,
    "slideshow": {
     "slide_type": "slide"
    },
    "tags": []
   },
   "source": [
    "# The Future\n",
    "\n",
    "<center> \n",
    "    <img  src=\"./e2eai-sphere.png\" width=\"800\"/> \n",
    "    <img  src=\"./flowchart.png\" width=\"800\"/> \n",
    "</center>\n",
    "\n",
    "\n",
    "- ### Unified Control Plane and Intent-Driven E2EAI"
   ]
  },
  {
   "cell_type": "markdown",
   "id": "ca04d309-bd14-4c4d-b4eb-521137c67462",
   "metadata": {
    "editable": false,
    "slideshow": {
     "slide_type": "slide"
    },
    "tags": []
   },
   "source": [
    "# Acknowledgement\n",
    "\n",
    "<center> \n",
    "    <img  src=\"./eu-funding.png\" width=\"250\"/> \n",
    "    <img  src=\"./SUNRISE-6G_QR.png\" width=\"100\"/>\n",
    "    <img  src=\"./SUNRISE-6G_logo.png\" width=\"100\"/>\n",
    "</center>\n",
    "\n",
    "\n",
    "#### This work has been funded by the SUNRISE-6G project, Grant number 101139257, co-funded by the European Union and Smart Networks and Services Joint Undertaking (SNS JU).\n",
    "\n",
    "### DISCLAIMER\n",
    "\n",
    "##### \"Funded by the European Union. Views and opinions expressed are however those of the author(s) only and do not necessarily reflect those of the European Union and Smart Networks and Services Joint Undertaking (SNS JU). Neither the European Union nor the granting authority can be held responsible for them.\"\n",
    "\n",
    "<br>\n",
    "<br>\n",
    "<br>\n",
    "\n",
    "\n",
    "<center>\n",
    "     <font size=\"+5\">THANK YOU!</font>\n",
    "</center>"
   ]
  }
 ],
 "metadata": {
  "kernelspec": {
   "display_name": "Julia 1.10.4",
   "language": "julia",
   "name": "julia-1.10"
  },
  "language_info": {
   "file_extension": ".jl",
   "mimetype": "application/julia",
   "name": "julia",
   "version": "1.10.4"
  }
 },
 "nbformat": 4,
 "nbformat_minor": 5
}
